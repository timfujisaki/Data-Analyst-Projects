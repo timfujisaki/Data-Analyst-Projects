{
 "cells": [
  {
   "cell_type": "markdown",
   "metadata": {},
   "source": [
    "# STROKE PROBABILITY MODEL - DATA EXPLORATION"
   ]
  },
  {
   "cell_type": "code",
   "execution_count": null,
   "metadata": {},
   "outputs": [],
   "source": []
  },
  {
   "cell_type": "markdown",
   "metadata": {},
   "source": [
    "## IMPORT LIBRARIES\n"
   ]
  },
  {
   "cell_type": "code",
   "execution_count": 40,
   "metadata": {
    "scrolled": true
   },
   "outputs": [
    {
     "name": "stdout",
     "output_type": "stream",
     "text": [
      "0.8.0\n"
     ]
    }
   ],
   "source": [
    "# Importing class\n",
    "from collections import Counter\n",
    "from imblearn.over_sampling import SMOTE\n",
    "from math import sqrt\n",
    "from matplotlib import pyplot\n",
    "from numpy import where\n",
    "from scipy.stats import chi2_contingency\n",
    "from sklearn import metrics\n",
    "from sklearn.datasets import make_classification\n",
    "from sklearn.linear_model import LogisticRegression\n",
    "from sklearn.metrics import precision_recall_curve, roc_auc_score, roc_curve, plot_roc_curve, classification_report, auc, f1_score, r2_score, explained_variance_score, confusion_matrix, accuracy_score, classification_report,plot_roc_curve, log_loss\n",
    "from sklearn.model_selection import train_test_split\n",
    "from sklearn.preprocessing import StandardScaler, scale\n",
    "from sklearn.tree import DecisionTreeClassifier\n",
    "from statsmodels.formula.api import logit\n",
    "import imblearn\n",
    "import matplotlib as mpl\n",
    "import matplotlib.pyplot as plt\n",
    "import numpy as np\n",
    "import pandas as pd\n",
    "import scipy.stats\n",
    "import scipy.stats as stats\n",
    "import seaborn as sns\n",
    "import statsmodels.api as sm\n",
    "pd.pandas.set_option('display.max_columns',None)\n",
    "print(imblearn.__version__)\n",
    "\n"
   ]
  },
  {
   "cell_type": "markdown",
   "metadata": {},
   "source": [
    "## IMPORT DATA FILE & EXPLORE DETAILS"
   ]
  },
  {
   "cell_type": "code",
   "execution_count": 41,
   "metadata": {
    "scrolled": false
   },
   "outputs": [
    {
     "name": "stdout",
     "output_type": "stream",
     "text": [
      "\u001b[1mStroke Variables:\u001b[0m\n",
      "['id' 'gender' 'age' 'hypertension' 'heart_disease' 'ever_married'\n",
      " 'work_type' 'Residence_type' 'avg_glucose_level' 'bmi' 'smoking_status'\n",
      " 'stroke']\n",
      "\n",
      "\n",
      "\u001b[1mDateFrame Shape:\u001b[0m\n",
      "(5110, 12)\n",
      "\n",
      "\u001b[1mINSIGHT: VARIABLE TYPE\u001b[0m\n",
      "2 qty -  Nominal: Work_Type, Smoking_Status\n",
      "6 qty -  Binary: Gender, Residence_type, Hypertension, Heart_Disease, Ever_Married, Stroke\n",
      "3 qty - Continuous: Age, Avg_Glucose_Level, BMI\n",
      "\n",
      "\u001b[1mNull Totals\u001b[0m\n",
      "id                      0\n",
      "gender                  0\n",
      "age                     0\n",
      "hypertension            0\n",
      "heart_disease           0\n",
      "ever_married            0\n",
      "work_type               0\n",
      "Residence_type          0\n",
      "avg_glucose_level       0\n",
      "bmi                   201\n",
      "smoking_status       1544\n",
      "stroke                  0\n",
      "dtype: int64\n",
      "\n"
     ]
    }
   ],
   "source": [
    "#CHANCE OF STROKE - change 'Unknown' data in Smoking_status to N/A\n",
    "stroke=pd.read_csv(r'C:\\Users\\tfuji\\Documents\\SpringBoard\\Capstone\\Stroke_Data_Raw.csv',header=0, na_values={'smoking_status':'Unknown'})\n",
    "\n",
    "print('\\033[1m'+\"Stroke Variables:\"+'\\033[0m')\n",
    "print(stroke.columns.values)\n",
    "print()\n",
    "print()\n",
    "print('\\033[1m'+\"DateFrame Shape:\"+'\\033[0m')\n",
    "print((stroke.shape))\n",
    "print()\n",
    "\n",
    "#Data Info\n",
    "print('\\033[1m'+'INSIGHT: VARIABLE TYPE'+'\\033[0m') \n",
    "print('2 qty -  Nominal: Work_Type, Smoking_Status')\n",
    "print('6 qty -  Binary: Gender, Residence_type, Hypertension, Heart_Disease, Ever_Married, Stroke')\n",
    "print('3 qty - Continuous: Age, Avg_Glucose_Level, BMI')\n",
    "print()\n",
    "\n",
    "\n",
    "\n",
    "# Null Values Total\n",
    "print('\\033[1m'+\"Null Totals\"+'\\033[0m')\n",
    "print(stroke.isna().sum())\n",
    "print()\n",
    "\n"
   ]
  },
  {
   "cell_type": "markdown",
   "metadata": {},
   "source": [
    "# 1. DATA CLEANSING"
   ]
  },
  {
   "cell_type": "markdown",
   "metadata": {},
   "source": [
    "## 1.1 MISSING VALUES: Deleting and Filling-In"
   ]
  },
  {
   "cell_type": "code",
   "execution_count": 42,
   "metadata": {
    "scrolled": false
   },
   "outputs": [
    {
     "name": "stdout",
     "output_type": "stream",
     "text": [
      "\u001b[1mShape: No Null Values\u001b[0m\n",
      "-The shape of the modified DataFrame is (3565, 12)\n"
     ]
    }
   ],
   "source": [
    "#DELETE: Null Smoking_Status\n",
    "stroke_3=stroke.dropna(subset =['smoking_status'])\n",
    "\n",
    "\n",
    "#FILL NA: Null BMI\n",
    "bmi_med=stroke_3['bmi'].median()\n",
    "stroke_med=stroke_3.fillna(bmi_med)\n",
    "\n",
    "# DELETE: Single gender \"Other\" Observation due to sample size\n",
    "stroke_med=stroke_med[stroke_med['gender'].str.contains(\"Other\")==False]\n",
    "\n",
    "#SUMMARY: find % of missing values per column with missing values\n",
    "#Shape after Null Smoking deleted\n",
    "print('\\033[1m'+\"Shape: No Null Values\"+'\\033[0m')\n",
    "print(\"-The shape of the modified DataFrame is {}\".format(stroke_med.shape))\n"
   ]
  },
  {
   "cell_type": "markdown",
   "metadata": {},
   "source": [
    "## 1.2 CONVERTING: Binary variables to 1/0"
   ]
  },
  {
   "cell_type": "code",
   "execution_count": 43,
   "metadata": {
    "scrolled": false
   },
   "outputs": [],
   "source": [
    "# Convert ever_married Yes/No to 1/0\n",
    "## 1=Yes, 0=No\n",
    "stroke_med['ever_married']=stroke_med['ever_married'].replace(['Yes','No'],[1,0])\n",
    "\n",
    "# Convert Residence_type Yes/No to 1/0\n",
    "## 1=Urban, 0=Rural\n",
    "stroke_med['Residence_type']=stroke_med['Residence_type'].replace(['Urban','Rural'],[1,0])\n",
    "\n",
    "# Convert gender Male/Female to 1/0\n",
    "## 1=Male, 0=Female\n",
    "stroke_med['gender']=stroke_med['gender'].replace(['Male','Female'],[1,0])\n"
   ]
  },
  {
   "cell_type": "markdown",
   "metadata": {},
   "source": [
    "## 1.3 REVIEW: Variables and Values"
   ]
  },
  {
   "cell_type": "code",
   "execution_count": 44,
   "metadata": {},
   "outputs": [
    {
     "name": "stdout",
     "output_type": "stream",
     "text": [
      "\u001b[1mQualitative Column Values:\u001b[0m\n",
      "gender - [1 0]\n",
      "hypertension - [0 1]\n",
      "heart_disease - [1 0]\n",
      "ever_married - [1 0]\n",
      "work_type - ['Private' 'Self-employed' 'Govt_job']\n",
      "Residence_type - [1 0]\n",
      "smoking_status - ['formerly smoked' 'never smoked' 'smokes']\n",
      "stroke - [1]\n",
      "\n",
      "\u001b[1mQuantitative Column Values:\u001b[0m\n",
      "age\n",
      "avg_glucose_level\n",
      "bmi\n"
     ]
    }
   ],
   "source": [
    "# Listing all unique values per variable.\n",
    "print('\\033[1m'+\"Qualitative Column Values:\"+'\\033[0m')\n",
    "for col in nominal:\n",
    "    x=nominal[nominal['stroke']==1]\n",
    "    z=(str(col)+\" - \"+(str(x[col].unique())))\n",
    "    print(z)\n",
    "print()\n",
    "print('\\033[1m'+\"Quantitative Column Values:\"+'\\033[0m')\n",
    "print(\"age\")\n",
    "print(\"avg_glucose_level\")\n",
    "print(\"bmi\")"
   ]
  },
  {
   "cell_type": "markdown",
   "metadata": {},
   "source": [
    "### INSIGHTS: DATA CLEANSING\n",
    "#### 1. Raw DataFrame has 5110 observations(rows) and 12 variables(columns). \n",
    "    5 qty -  Nominal: Gender, Work_Type, Residence_Type, Smoking_Status\n",
    "    4 qty -  Binary: Hypertension, Heart_Disease, Ever_Married, Stroke\n",
    "    3 qty - Continuous: Age, Avg_Glucose_Level, BMI\n",
    "#### 2. Missing values: \n",
    "     smoking_status: 1544 (30.22%) - All deleted\n",
    "     bmi(raw data): 201 (3.93%) \n",
    "     bmi(after smoking deleted): 140 (4.0864%) - All replaced with bmi median value\n",
    "#### 3. DataFrame Shape:\n",
    "    Raw: The shape of the raw DataFrame was (5110, 12)\n",
    "    Modified: The shape of the modified DataFrame is (3566, 12)\n",
    "#### 4. DataFrame Variables and Values:\n",
    "    Qualitative Column Values:\n",
    "    gender - ['Male' 'Female' 'Other']\n",
    "    hypertension - [0 1]\n",
    "    heart_disease - [1 0]\n",
    "    ever_married - ['Yes' 'No']\n",
    "    work_type - ['Private' 'Self-employed' 'Govt_job' 'children' 'Never_worked']\n",
    "    Residence_type - ['Urban' 'Rural']\n",
    "    smoking_status - ['formerly smoked' 'never smoked' 'smokes']\n",
    "    stroke - [1 0]\n",
    "\n",
    "    Quantitative Column Values:\n",
    "    age\n",
    "    avg_glucose_level\n",
    "    bmi"
   ]
  },
  {
   "cell_type": "markdown",
   "metadata": {},
   "source": [
    "### FOR REFERENCE: Modified DataFrames"
   ]
  },
  {
   "cell_type": "code",
   "execution_count": 45,
   "metadata": {},
   "outputs": [],
   "source": [
    "stroke_yes = stroke_med[stroke_med['stroke']==1]\n",
    "stroke_no = stroke_med[stroke_med['stroke']==0]\n",
    "\n",
    "# Quan = only continuous variables\n",
    "quan = stroke_med[['age','avg_glucose_level','bmi','stroke']]\n",
    "\n",
    "# Quan_labels_only = continuous(Quan) - Stroke\n",
    "quan_labels_only=stroke_med.drop(['id', 'gender', 'hypertension', 'heart_disease', 'ever_married','work_type', 'Residence_type','smoking_status', 'stroke'],axis=1).columns\n",
    "\n",
    "#Nominal= Binary + (Gender, Work Type, Smoking_status)\n",
    "nominal=stroke_med[['gender','hypertension','heart_disease','ever_married', 'work_type', 'Residence_type', 'smoking_status', 'stroke']]\n",
    "\n",
    "#Binary = stroke_med - quan & (Gender, Work Type, Smoking_status)\n",
    "binary=stroke_med[['gender','hypertension','heart_disease','ever_married','Residence_type','stroke']]\n",
    "stroke_nominal=nominal[nominal['stroke'] == 1]\n"
   ]
  },
  {
   "cell_type": "markdown",
   "metadata": {},
   "source": [
    "# 2. DATA EXPLORATION"
   ]
  },
  {
   "cell_type": "markdown",
   "metadata": {},
   "source": [
    "## 2.1 DEPENDENT VARIABLE"
   ]
  },
  {
   "cell_type": "code",
   "execution_count": 28,
   "metadata": {},
   "outputs": [
    {
     "name": "stdout",
     "output_type": "stream",
     "text": [
      "0    3363\n",
      "1     202\n",
      "Name: stroke, dtype: int64\n",
      "\n",
      "percentage of no stroke is 94.334%\n",
      "percentage of stroke 5.666%\n",
      "\n"
     ]
    },
    {
     "data": {
      "image/png": "[encoded data removed]",
      "text/plain": [
       "<Figure size 432x288 with 1 Axes>"
      ]
     },
     "metadata": {
      "needs_background": "light"
     },
     "output_type": "display_data"
    },
    {
     "data": {
      "text/html": [
       "<div>\n",
       "<style scoped>\n",
       "    .dataframe tbody tr th:only-of-type {\n",
       "        vertical-align: middle;\n",
       "    }\n",
       "\n",
       "    .dataframe tbody tr th {\n",
       "        vertical-align: top;\n",
       "    }\n",
       "\n",
       "    .dataframe thead th {\n",
       "        text-align: right;\n",
       "    }\n",
       "</style>\n",
       "<table border=\"1\" class=\"dataframe\">\n",
       "  <thead>\n",
       "    <tr style=\"text-align: right;\">\n",
       "      <th></th>\n",
       "      <th>id</th>\n",
       "      <th>gender</th>\n",
       "      <th>age</th>\n",
       "      <th>hypertension</th>\n",
       "      <th>heart_disease</th>\n",
       "      <th>ever_married</th>\n",
       "      <th>Residence_type</th>\n",
       "      <th>avg_glucose_level</th>\n",
       "      <th>bmi</th>\n",
       "    </tr>\n",
       "    <tr>\n",
       "      <th>stroke</th>\n",
       "      <th></th>\n",
       "      <th></th>\n",
       "      <th></th>\n",
       "      <th></th>\n",
       "      <th></th>\n",
       "      <th></th>\n",
       "      <th></th>\n",
       "      <th></th>\n",
       "      <th></th>\n",
       "    </tr>\n",
       "  </thead>\n",
       "  <tbody>\n",
       "    <tr>\n",
       "      <th>0</th>\n",
       "      <td>36793.457032</td>\n",
       "      <td>0.392804</td>\n",
       "      <td>47.700565</td>\n",
       "      <td>0.114184</td>\n",
       "      <td>0.056200</td>\n",
       "      <td>0.752007</td>\n",
       "      <td>0.507880</td>\n",
       "      <td>107.448379</td>\n",
       "      <td>30.231282</td>\n",
       "    </tr>\n",
       "    <tr>\n",
       "      <th>1</th>\n",
       "      <td>36561.559406</td>\n",
       "      <td>0.425743</td>\n",
       "      <td>68.168317</td>\n",
       "      <td>0.306931</td>\n",
       "      <td>0.193069</td>\n",
       "      <td>0.896040</td>\n",
       "      <td>0.524752</td>\n",
       "      <td>134.344653</td>\n",
       "      <td>30.482673</td>\n",
       "    </tr>\n",
       "  </tbody>\n",
       "</table>\n",
       "</div>"
      ],
      "text/plain": [
       "                  id    gender        age  hypertension  heart_disease  \\\n",
       "stroke                                                                   \n",
       "0       36793.457032  0.392804  47.700565      0.114184       0.056200   \n",
       "1       36561.559406  0.425743  68.168317      0.306931       0.193069   \n",
       "\n",
       "        ever_married  Residence_type  avg_glucose_level        bmi  \n",
       "stroke                                                              \n",
       "0           0.752007        0.507880         107.448379  30.231282  \n",
       "1           0.896040        0.524752         134.344653  30.482673  "
      ]
     },
     "execution_count": 28,
     "metadata": {},
     "output_type": "execute_result"
    }
   ],
   "source": [
    "#Explore Stroke vs Non Stroke Distribution\n",
    "print(stroke_med['stroke'].value_counts())\n",
    "print()\n",
    "\n",
    "\n",
    "count_no_stroke = len(stroke_med[stroke_med['stroke']==0])\n",
    "count_stroke = len(stroke_med[stroke_med['stroke']==1])\n",
    "\n",
    "pct_of_no_stroke = count_no_stroke/(count_no_stroke+count_stroke)\n",
    "print(\"percentage of no stroke is {}%\".format( round((pct_of_no_stroke*100),3)))\n",
    "\n",
    "pct_of_stroke = count_stroke/(count_no_stroke+count_stroke)\n",
    "print(\"percentage of stroke {}%\".format(round((pct_of_stroke*100),3)))\n",
    "print()\n",
    "\n",
    "\n",
    "sns.countplot(x='stroke',data=stroke_med, palette = 'hls')\n",
    "plt.show()\n",
    "\n",
    "\n",
    "# Observing differences in mean for independent variables\n",
    "stroke_med.groupby('stroke').mean()"
   ]
  },
  {
   "cell_type": "code",
   "execution_count": null,
   "metadata": {},
   "outputs": [],
   "source": []
  },
  {
   "cell_type": "markdown",
   "metadata": {},
   "source": [
    "#### INSIGHT: DATA SET DISTRIBUTION IS NOT BALANCED"
   ]
  },
  {
   "cell_type": "markdown",
   "metadata": {},
   "source": [
    "## 2.2 QUANTITATIVE VARIABLES - Change in Median - Stroke vs Non-Stroke"
   ]
  },
  {
   "cell_type": "code",
   "execution_count": 260,
   "metadata": {},
   "outputs": [
    {
     "name": "stdout",
     "output_type": "stream",
     "text": [
      "The median age for stroke patients is 71.0.\n",
      "The median age for non-stroke patients is 48.0.\n",
      "The median age increase due to stroke is 23.0 or 47.92%\n",
      "\n",
      "The median avg_glucose_level for stroke patients is 106.57.\n",
      "The median avg_glucose_level for non-stroke patients is 92.06.\n",
      "The median avg_glucose_level increase due to stroke is 14.51 or 15.77%\n",
      "\n",
      "The median bmi for stroke patients is 29.1.\n",
      "The median bmi for non-stroke patients is 29.1.\n",
      "The median bmi increase due to stroke is 0.0 or 0.0%\n",
      "\n"
     ]
    }
   ],
   "source": [
    "def median_comp(df,col):\n",
    "        stroke1=df[(df['stroke'] == 1)]\n",
    "        stroke0=df[(df['stroke'] == 0)]\n",
    "        print(\"The median {} for stroke patients is {}.\".format(col,round((stroke1[col].median()),2)))\n",
    "        print(\"The median {} for non-stroke patients is {}.\".format(col,stroke0[col].median()))\n",
    "        print(\"The median {} increase due to stroke is {} or {}%\".format(col,round((stroke1[col].median())-(stroke0[col].median()),2),round((((stroke1[col].median())-(stroke0[col].median()))/(stroke0[col].median()))*100,2)))\n",
    "        return\n",
    "for col in quan.iloc[:,:-1]:\n",
    "    x=(median_comp(stroke_med,col))\n",
    "    print()"
   ]
  },
  {
   "cell_type": "markdown",
   "metadata": {},
   "source": [
    "#### INSIGHT: Of the 3 continuous variables, Age and Average Glucose Level's medians saw significant increases from non-stroke to stroke patients.  The median Age increased the most at 47.92%, Average Glucose Levels increased 2nd most at 15.75%, and BMI saw no increase."
   ]
  },
  {
   "cell_type": "markdown",
   "metadata": {},
   "source": [
    "## 2.3 Quantiles, Outliers and Boxplots"
   ]
  },
  {
   "cell_type": "code",
   "execution_count": 516,
   "metadata": {},
   "outputs": [],
   "source": [
    "def box_and_quartiles(quan_df,col):\n",
    "#for col in quan.iloc[:,0:3]:\n",
    "    #Dataframe for Plot Loops(with column)\n",
    "    cont_1=quan_df[quan_df['stroke'] == 1][col]\n",
    "    cont_0=quan_df[quan_df['stroke'] == 0][col]\n",
    "    \n",
    "    #Plot Loop\n",
    "    data = [cont_1,cont_0]\n",
    "    fig = plt.figure(figsize =(10, 7)) \n",
    "    ax = fig.add_axes([0, 0, 1, 1]) \n",
    "    bp = ax.boxplot(data) \n",
    "    plt.title(col+' vs. Stroke', fontsize=38)  \n",
    "    ax.set_xlabel(\"STROKE                                         NON-STROKE\", fontsize=20)\n",
    "    ax.set_ylabel(col, fontsize=20)\n",
    "\n",
    "    plt.show() \n",
    " \n",
    "    #positionalize\n",
    "    \n",
    "    #Dataframe for Quartile Summary(No Column)\n",
    "    cont_1_1=quan_df[quan_df['stroke'] == 1]\n",
    "    cont_0_0=quan_df[quan_df['stroke'] == 0]\n",
    "    \n",
    "    #Summary for Stroke Patients\n",
    "    print('\\033[1m'+str(col)+'\\033[0m')\n",
    "    print('\\033[1m'+\"Stroke Patients:\"+'\\033[0m')\n",
    "    \n",
    "    #Stroke Quartiles\n",
    "    q1=(cont_1_1[col].quantile(.25))\n",
    "    q2=(cont_1_1[col].quantile(.50))\n",
    "    q3=(cont_1_1[col].quantile(.75))\n",
    "    iqr=q3-q1\n",
    "    \n",
    "    #Stroke Non Outliers\n",
    "    df_not_ol =cont_1_1[~((cont_1_1[col] < (q1 - 1.5 * iqr)) |(cont_1_1[col] > (q3 + 1.5* iqr)))]\n",
    "    num_non_outliers = len(df_not_ol[col])\n",
    "    total_count = len(cont_1_1[col])\n",
    "    num_outliers = total_count-num_non_outliers\n",
    "    perc_ol=round(((1 - (num_non_outliers/total_count))*100),2)\n",
    "    \n",
    "    print(\"Outliers: \"+str(num_outliers))\n",
    "    print(\"Non Outliers: \"+str(num_non_outliers))\n",
    "    print(\"Total Count: \"+str(total_count))\n",
    "    print(\"Percent Outliers: \"+str(round(perc_ol,2))+\"%\")\n",
    "    print(\"IQR: \"+str(round(iqr,2)))\n",
    "    print(\"Upper Limit: \"+str(round((q3+(1.5*iqr)),2)))\n",
    "    print(\"Max: \"+str(cont_1_1[col].max()))\n",
    "    print(\"q3: \"+str(round(q3,2)))\n",
    "    print(\"q2: \"+str(round(q2,2)))\n",
    "    print(\"q1: \"+str(round(q1,2)))\n",
    "    print(\"Min: \"+str(cont_1_1[col].min()))\n",
    "    print(\"Lower Limit: \"+str(round((q1-1.5*iqr),2)))\n",
    "    print()\n",
    "    \n",
    "    #Summary for Non-Stroke Patients\n",
    "    print('\\033[1m'+str(col)+'\\033[0m')\n",
    "    print('\\033[1m'+\"Non-Stroke Patients:\"+'\\033[0m')\n",
    "    \n",
    "    #Non Stroke Quartiles\n",
    "    q10=(cont_0_0[col].quantile(.25))\n",
    "    q20=(cont_0_0[col].quantile(.50))\n",
    "    q30=(cont_0_0[col].quantile(.75))\n",
    "    iqr0=q30-q10\n",
    "    \n",
    "    #Non Stroke Non Outliers\n",
    "    df_not_ol0 =cont_0_0[~((cont_0_0[col] < (q10 - 1.5 * iqr0)) |(cont_0_0[col] > (q30 + 1.5* iqr0)))]\n",
    "    num_non_outliers0 = len(df_not_ol0[col])\n",
    "    total_count0 = len(cont_0_0[col])\n",
    "    num_outliers0 = total_count0-num_non_outliers0\n",
    "    perc_ol0=round(((1 - (num_non_outliers0/total_count0))*100),2)\n",
    "    \n",
    "    print(\"Outliers: \"+str(num_outliers0))\n",
    "    print(\"Non Outliers: \"+str(num_non_outliers0))\n",
    "    print(\"Total Count: \"+str(total_count0))\n",
    "    print(\"Percent Outliers: \"+str(perc_ol0)+\"%\")\n",
    "    print(\"IQR: \"+str(round(iqr0,2)))\n",
    "    print(\"Upper Limit: \"+str(q30+(1.5*iqr0)))\n",
    "    print(\"Max: \"+str(cont_0_0[col].max()))\n",
    "    print(\"q3: \"+str(q30))\n",
    "    print(\"q2: \"+str(q20))\n",
    "    print(\"q1: \"+str(q10))\n",
    "    print(\"Min: \"+str(cont_0_0[col].min()))\n",
    "    print(\"Lower Limit: \"+str(round((q10-1.5*iqr0),2)))\n",
    "    print()\n",
    "    print()    \n",
    "    print()"
   ]
  },
  {
   "cell_type": "code",
   "execution_count": 515,
   "metadata": {},
   "outputs": [
    {
     "data": {
      "image/png": "[encoded data removed]",
      "text/plain": [
       "<Figure size 720x504 with 1 Axes>"
      ]
     },
     "metadata": {},
     "output_type": "display_data"
    },
    {
     "name": "stdout",
     "output_type": "stream",
     "text": [
      "\u001b[1mage\u001b[0m\n",
      "\u001b[1mStroke Patients:\u001b[0m\n",
      "Outliers: 0\n",
      "Non Outliers: 202\n",
      "Total Count: 202\n",
      "Percent Outliers: 0.0%\n",
      "IQR: 19.0\n",
      "Upper Limit: 106.5\n",
      "Max: 82.0\n",
      "q3: 78.0\n",
      "q2: 71.0\n",
      "q1: 59.0\n",
      "Min: 32.0\n",
      "Lower Limit: 30.5\n",
      "\n",
      "\u001b[1mage\u001b[0m\n",
      "\u001b[1mNon-Stroke Patients:\u001b[0m\n",
      "Outliers: 0\n",
      "Non Outliers: 3364\n",
      "Total Count: 3364\n",
      "Percent Outliers: 0.0%\n",
      "IQR: 29.0\n",
      "Upper Limit: 105.5\n",
      "Max: 82.0\n",
      "q3: 62.0\n",
      "q2: 48.0\n",
      "q11: 33.0\n",
      "Min: 10.0\n",
      "Lower Limit: -10.5\n",
      "\n",
      "\n",
      "\n"
     ]
    }
   ],
   "source": [
    "box_and_quartiles(quan,'age')"
   ]
  },
  {
   "cell_type": "code",
   "execution_count": 79,
   "metadata": {},
   "outputs": [
    {
     "data": {
      "image/png": "[encoded data removed]",
      "text/plain": [
       "<Figure size 720x504 with 1 Axes>"
      ]
     },
     "metadata": {
      "needs_background": "light"
     },
     "output_type": "display_data"
    },
    {
     "name": "stdout",
     "output_type": "stream",
     "text": [
      "\u001b[1mavg_glucose_level\u001b[0m\n",
      "\u001b[1mStroke Patients:\u001b[0m\n",
      "Outliers: 0\n",
      "Non Outliers: 202\n",
      "Total Count: 202\n",
      "Percent Outliers: 0.0%\n",
      "IQR: 116.99\n",
      "Upper Limit: 372.36\n",
      "Max: 271.74\n",
      "q3: 196.87\n",
      "q2: 106.57\n",
      "q1: 79.88\n",
      "Min: 56.11\n",
      "Lower Limit: -95.61\n",
      "\n",
      "\u001b[1mavg_glucose_level\u001b[0m\n",
      "\u001b[1mNon-Stroke Patients:\u001b[0m\n",
      "Outliers: 448\n",
      "Non Outliers: 2916\n",
      "Total Count: 3364\n",
      "Percent Outliers: 13.32%\n",
      "IQR: 37.22\n",
      "Upper Limit: 170.38750000000002\n",
      "Max: 267.76\n",
      "q3: 114.5575\n",
      "q2: 92.07\n",
      "q1: 77.33749999999999\n",
      "Min: 55.12\n",
      "Lower Limit: 21.51\n",
      "\n",
      "\n",
      "\n"
     ]
    }
   ],
   "source": [
    "box_and_quartiles(quan,'avg_glucose_level')"
   ]
  },
  {
   "cell_type": "code",
   "execution_count": 80,
   "metadata": {},
   "outputs": [
    {
     "data": {
      "image/png": "[encoded data removed]",
      "text/plain": [
       "<Figure size 720x504 with 1 Axes>"
      ]
     },
     "metadata": {
      "needs_background": "light"
     },
     "output_type": "display_data"
    },
    {
     "name": "stdout",
     "output_type": "stream",
     "text": [
      "\u001b[1mbmi\u001b[0m\n",
      "\u001b[1mStroke Patients:\u001b[0m\n",
      "Outliers: 12\n",
      "Non Outliers: 190\n",
      "Total Count: 202\n",
      "Percent Outliers: 5.94%\n",
      "IQR: 5.95\n",
      "Upper Limit: 41.9\n",
      "Max: 56.6\n",
      "q3: 32.98\n",
      "q2: 29.1\n",
      "q1: 27.02\n",
      "Min: 16.9\n",
      "Lower Limit: 18.1\n",
      "\n",
      "\u001b[1mbmi\u001b[0m\n",
      "\u001b[1mNon-Stroke Patients:\u001b[0m\n",
      "Outliers: 91\n",
      "Non Outliers: 3273\n",
      "Total Count: 3364\n",
      "Percent Outliers: 2.71%\n",
      "IQR: 8.6\n",
      "Upper Limit: 46.8\n",
      "Max: 92.0\n",
      "q3: 33.9\n",
      "q2: 29.1\n",
      "q1: 25.3\n",
      "Min: 11.5\n",
      "Lower Limit: 12.4\n",
      "\n",
      "\n",
      "\n"
     ]
    }
   ],
   "source": [
    "box_and_quartiles(quan,'bmi')"
   ]
  },
  {
   "cell_type": "markdown",
   "metadata": {},
   "source": [
    "## 2.4 Stroke Totals per Value"
   ]
  },
  {
   "cell_type": "code",
   "execution_count": 43,
   "metadata": {
    "scrolled": false
   },
   "outputs": [],
   "source": [
    "# TOTAL STROKE OBSERVATIONS PER GROUPED VALUES - CONTINUOUS VARIABLES ONLY\n",
    "def raw_cont_count(cont_df,col):\n",
    "    if col != 'stroke':\n",
    "        age_sum=cont_df[[col,'stroke']].loc[cont_df['stroke']==1].groupby([col]).count()\n",
    "        age_sum.plot(kind='bar',figsize=(15,6))\n",
    "        plt.tight_layout()\n"
   ]
  },
  {
   "cell_type": "code",
   "execution_count": 44,
   "metadata": {
    "scrolled": false
   },
   "outputs": [
    {
     "data": {
      "image/png": "[encoded data removed]",
      "text/plain": [
       "<Figure size 1080x432 with 1 Axes>"
      ]
     },
     "metadata": {
      "needs_background": "light"
     },
     "output_type": "display_data"
    },
    {
     "data": {
      "image/png": "[encoded data removed]",
      "text/plain": [
       "<Figure size 1080x432 with 1 Axes>"
      ]
     },
     "metadata": {
      "needs_background": "light"
     },
     "output_type": "display_data"
    },
    {
     "data": {
      "image/png": "[encoded data removed]",
      "text/plain": [
       "<Figure size 1080x432 with 1 Axes>"
      ]
     },
     "metadata": {
      "needs_background": "light"
     },
     "output_type": "display_data"
    }
   ],
   "source": [
    "raw_cont_count(quan,'age')\n",
    "raw_cont_count(quan,'avg_glucose_level')\n",
    "raw_cont_count(quan,'bmi')"
   ]
  },
  {
   "cell_type": "markdown",
   "metadata": {},
   "source": [
    "#### INSIGHT: Need Bin Transformation"
   ]
  },
  {
   "cell_type": "markdown",
   "metadata": {},
   "source": [
    "## 2.5.A BIN TRANSFORMATION: Stroke Frequency per Bin - BAR GRAPH OPTION 2"
   ]
  },
  {
   "cell_type": "code",
   "execution_count": 59,
   "metadata": {
    "scrolled": false
   },
   "outputs": [
    {
     "name": "stdout",
     "output_type": "stream",
     "text": [
      "STROKE Count per: age_bin\n",
      "age_bin\n",
      "(0, 5]         0\n",
      "(5, 10]        0\n",
      "(10, 15]       0\n",
      "(15, 20]       0\n",
      "(20, 25]       0\n",
      "(25, 30]       0\n",
      "(30, 35]       1\n",
      "(35, 40]       5\n",
      "(40, 45]       3\n",
      "(45, 50]      10\n",
      "(50, 55]      15\n",
      "(55, 60]      22\n",
      "(60, 65]      18\n",
      "(65, 70]      24\n",
      "(70, 75]      24\n",
      "(75, 80]      60\n",
      "(80, 85]      20\n",
      "(85, 90]       0\n",
      "(90, 95]       0\n",
      "(95, 100]      0\n",
      "(100, 105]     0\n",
      "(105, 110]     0\n",
      "Name: age_bin, dtype: int64\n",
      "\n",
      "NON-STROKE Count per: age_bin\n",
      "age_bin\n",
      "(0, 5]          0\n",
      "(5, 10]        10\n",
      "(10, 15]       99\n",
      "(15, 20]      171\n",
      "(20, 25]      210\n",
      "(25, 30]      220\n",
      "(30, 35]      260\n",
      "(35, 40]      270\n",
      "(40, 45]      289\n",
      "(45, 50]      286\n",
      "(50, 55]      344\n",
      "(55, 60]      289\n",
      "(60, 65]      258\n",
      "(65, 70]      190\n",
      "(70, 75]      179\n",
      "(75, 80]      214\n",
      "(80, 85]       74\n",
      "(85, 90]        0\n",
      "(90, 95]        0\n",
      "(95, 100]       0\n",
      "(100, 105]      0\n",
      "(105, 110]      0\n",
      "Name: age_bin, dtype: int64\n",
      "\n",
      "\n",
      "\n",
      "STROKE Count per: glu_bin\n",
      "glu_bin\n",
      "(0, 10]        0\n",
      "(10, 20]       0\n",
      "(20, 30]       0\n",
      "(30, 40]       0\n",
      "(40, 50]       0\n",
      "(50, 60]       6\n",
      "(60, 70]      16\n",
      "(70, 80]      29\n",
      "(80, 90]      19\n",
      "(90, 100]     19\n",
      "(100, 110]    15\n",
      "(110, 120]    13\n",
      "(120, 130]     4\n",
      "(130, 140]     4\n",
      "(140, 150]     2\n",
      "(150, 160]     1\n",
      "(160, 170]     3\n",
      "(170, 180]     4\n",
      "(180, 190]     6\n",
      "(190, 200]    15\n",
      "(200, 210]     9\n",
      "(210, 220]     9\n",
      "(220, 230]    10\n",
      "(230, 240]     7\n",
      "(240, 250]     6\n",
      "(250, 260]     3\n",
      "(260, 270]     1\n",
      "(270, 280]     1\n",
      "(280, 290]     0\n",
      "(290, 300]     0\n",
      "Name: glu_bin, dtype: int64\n",
      "\n",
      "NON-STROKE Count per: glu_bin\n",
      "glu_bin\n",
      "(0, 10]         0\n",
      "(10, 20]        0\n",
      "(20, 30]        0\n",
      "(30, 40]        0\n",
      "(40, 50]        0\n",
      "(50, 60]      147\n",
      "(60, 70]      352\n",
      "(70, 80]      496\n",
      "(80, 90]      578\n",
      "(90, 100]     469\n",
      "(100, 110]    334\n",
      "(110, 120]    233\n",
      "(120, 130]    114\n",
      "(130, 140]     60\n",
      "(140, 150]     58\n",
      "(150, 160]     42\n",
      "(160, 170]     30\n",
      "(170, 180]     25\n",
      "(180, 190]     37\n",
      "(190, 200]     64\n",
      "(200, 210]     93\n",
      "(210, 220]     80\n",
      "(220, 230]     62\n",
      "(230, 240]     50\n",
      "(240, 250]     23\n",
      "(250, 260]     10\n",
      "(260, 270]      6\n",
      "(270, 280]      0\n",
      "(280, 290]      0\n",
      "(290, 300]      0\n",
      "Name: glu_bin, dtype: int64\n",
      "\n",
      "\n",
      "\n",
      "STROKE Count per: bmi_bin\n",
      "bmi_bin\n",
      "(0, 5]       0\n",
      "(5, 10]      0\n",
      "(10, 15]     0\n",
      "(15, 20]     1\n",
      "(20, 25]    31\n",
      "(25, 30]    86\n",
      "(30, 35]    46\n",
      "(35, 40]    22\n",
      "(40, 45]    10\n",
      "(45, 50]     5\n",
      "Name: bmi_bin, dtype: int64\n",
      "\n",
      "NON-STROKE Count per: bmi_bin\n",
      "bmi_bin\n",
      "(0, 5]         0\n",
      "(5, 10]        0\n",
      "(10, 15]       3\n",
      "(15, 20]     103\n",
      "(20, 25]     678\n",
      "(25, 30]    1147\n",
      "(30, 35]     728\n",
      "(35, 40]     390\n",
      "(40, 45]     198\n",
      "(45, 50]      59\n",
      "Name: bmi_bin, dtype: int64\n",
      "\n",
      "\n",
      "\n"
     ]
    },
    {
     "data": {
      "text/html": [
       "<div>\n",
       "<style scoped>\n",
       "    .dataframe tbody tr th:only-of-type {\n",
       "        vertical-align: middle;\n",
       "    }\n",
       "\n",
       "    .dataframe tbody tr th {\n",
       "        vertical-align: top;\n",
       "    }\n",
       "\n",
       "    .dataframe thead th {\n",
       "        text-align: right;\n",
       "    }\n",
       "</style>\n",
       "<table border=\"1\" class=\"dataframe\">\n",
       "  <thead>\n",
       "    <tr style=\"text-align: right;\">\n",
       "      <th></th>\n",
       "      <th>bmi_bin</th>\n",
       "    </tr>\n",
       "    <tr>\n",
       "      <th>bmi_bin</th>\n",
       "      <th></th>\n",
       "    </tr>\n",
       "  </thead>\n",
       "  <tbody>\n",
       "    <tr>\n",
       "      <th>(0, 5]</th>\n",
       "      <td>0</td>\n",
       "    </tr>\n",
       "    <tr>\n",
       "      <th>(5, 10]</th>\n",
       "      <td>0</td>\n",
       "    </tr>\n",
       "    <tr>\n",
       "      <th>(10, 15]</th>\n",
       "      <td>0</td>\n",
       "    </tr>\n",
       "    <tr>\n",
       "      <th>(15, 20]</th>\n",
       "      <td>1</td>\n",
       "    </tr>\n",
       "    <tr>\n",
       "      <th>(20, 25]</th>\n",
       "      <td>31</td>\n",
       "    </tr>\n",
       "    <tr>\n",
       "      <th>(25, 30]</th>\n",
       "      <td>86</td>\n",
       "    </tr>\n",
       "    <tr>\n",
       "      <th>(30, 35]</th>\n",
       "      <td>46</td>\n",
       "    </tr>\n",
       "    <tr>\n",
       "      <th>(35, 40]</th>\n",
       "      <td>22</td>\n",
       "    </tr>\n",
       "    <tr>\n",
       "      <th>(40, 45]</th>\n",
       "      <td>10</td>\n",
       "    </tr>\n",
       "    <tr>\n",
       "      <th>(45, 50]</th>\n",
       "      <td>5</td>\n",
       "    </tr>\n",
       "  </tbody>\n",
       "</table>\n",
       "</div>"
      ],
      "text/plain": [
       "          bmi_bin\n",
       "bmi_bin          \n",
       "(0, 5]          0\n",
       "(5, 10]         0\n",
       "(10, 15]        0\n",
       "(15, 20]        1\n",
       "(20, 25]       31\n",
       "(25, 30]       86\n",
       "(30, 35]       46\n",
       "(35, 40]       22\n",
       "(40, 45]       10\n",
       "(45, 50]        5"
      ]
     },
     "execution_count": 59,
     "metadata": {},
     "output_type": "execute_result"
    }
   ],
   "source": [
    "# Defining bins for each continuous variable, and adding a 'bin' column to dataframe\n",
    "quan_bin=quan.copy()\n",
    "\n",
    "# () inclusive, [] exclusive\n",
    "\n",
    "age_bins=[0,5,10,15,20,25,30,35,40,45,50,55,60,65,70,75,80,85,90,95,100,105,110]\n",
    "quan_bin['age_bin']=pd.cut(stroke_med['age'],age_bins)\n",
    "\n",
    "glucose_bins=[0,10,20,30,40,50,60,70,80,90,100,110,120,130,140,150,160,170,180,190,200,210,220,230,240,250,260,270,280,290,300]\n",
    "quan_bin['glu_bin']=pd.cut(stroke_med['avg_glucose_level'],glucose_bins)\n",
    "\n",
    "\n",
    "bmi_bins=[0,5,10,15,20,25,30,35,40,45,50]\n",
    "quan_bin['bmi_bin']=pd.cut(stroke_med['bmi'],bmi_bins)\n",
    "\n",
    "quan_bin1=quan_bin[(quan_bin['stroke']==1)]\n",
    "quan_bin0=quan_bin[(quan_bin['stroke']==0)]\n",
    "\n",
    "\n",
    "#LOOP VERSION: printing count for each specific bin for continuous variable\n",
    "#NOTE: No \n",
    "for col in quan_bin1.iloc[:,4:]:\n",
    "    quan_bin1_agg = quan_bin1[[col,'stroke']].groupby(quan_bin1[col]).count()\n",
    "    quan_bin0_agg=quan_bin0[[col,'stroke']].groupby(quan_bin0[col]).count()\n",
    "    print(\"STROKE Count per: {}\".format(col))\n",
    "    print(quan_bin1_agg.iloc[:,0])\n",
    "    print()\n",
    "    print(\"NON-STROKE Count per: {}\".format(col))\n",
    "    print(quan_bin0_agg.iloc[:,0])\n",
    "    print()\n",
    "    print()\n",
    "    print()\n",
    "# df.set_index(age_bins)  \n",
    "# return: df[]/total\n",
    "\n",
    "quan_bin1_agg.iloc[:,0:1]"
   ]
  },
  {
   "cell_type": "code",
   "execution_count": 62,
   "metadata": {
    "scrolled": false
   },
   "outputs": [
    {
     "name": "stdout",
     "output_type": "stream",
     "text": [
      "\n",
      "\n",
      "\n",
      "\n",
      "\n",
      "\n",
      "\n",
      "\n",
      "\n",
      "\n",
      "\n",
      "\n",
      "\n",
      "\n",
      "\n",
      "\n",
      "\n",
      "\n"
     ]
    },
    {
     "data": {
      "image/png": "[encoded data removed]",
      "text/plain": [
       "<Figure size 1080x720 with 2 Axes>"
      ]
     },
     "metadata": {
      "needs_background": "light"
     },
     "output_type": "display_data"
    },
    {
     "data": {
      "image/png": "[encoded data removed]",
      "text/plain": [
       "<Figure size 1080x720 with 2 Axes>"
      ]
     },
     "metadata": {
      "needs_background": "light"
     },
     "output_type": "display_data"
    },
    {
     "data": {
      "image/png": "[encoded data removed]",
      "text/plain": [
       "<Figure size 1080x720 with 2 Axes>"
      ]
     },
     "metadata": {
      "needs_background": "light"
     },
     "output_type": "display_data"
    }
   ],
   "source": [
    "#BAR GRAPH FOR CONTINUOUS BINS: STROKE vs NON STROKE\n",
    "# NEED HELP: adding title to each\n",
    "for col in quan_bin1.iloc[:,4:]:\n",
    "    quan_bin1_agg=quan_bin1[[col,'stroke']].groupby(quan_bin1[col]).count()\n",
    "    quan_bin0_agg=quan_bin0[[col,'stroke']].groupby(quan_bin0[col]).count() \n",
    "    \n",
    "    fig, axes = plt.subplots(nrows=2, ncols=1)\n",
    "    ax1=quan_bin1_agg.iloc[:,0:1].plot(kind='bar',ax=axes[0], figsize=(15,10))\n",
    "    ax1.title.set_text(\"{}: Stroke\".format(col))\n",
    "    ax2=quan_bin0_agg.iloc[:,0:1].plot(kind='bar',ax=axes[1], figsize=(15,10))\n",
    "    ax2.title.set_text(\"{}: Non-Stroke\".format(col))\n",
    "    plt.tight_layout()\n",
    "    print()\n",
    "    print()\n",
    "    print()\n",
    "    print()\n",
    "    print()\n",
    "    print()\n",
    "    "
   ]
  },
  {
   "cell_type": "code",
   "execution_count": null,
   "metadata": {},
   "outputs": [],
   "source": [
    "fig, axes = plt.subplots(nrows=2, ncols=1)\n",
    "ax1=quan_bin1_agg.iloc[:,0:1].plot(kind='bar',ax=axes[0], figsize=(15,10))\n",
    "ax1.title.set_text(\"{}: Stroke\".format(col))\n",
    "ax2=quan_bin0_agg.iloc[:,0:1].plot(kind='bar',ax=axes[1], figsize=(15,10))\n",
    "ax2.title.set_text(\"{}: Non-Stroke\".format(col))\n",
    "plt.tight_layout()"
   ]
  },
  {
   "cell_type": "code",
   "execution_count": 58,
   "metadata": {},
   "outputs": [
    {
     "name": "stdout",
     "output_type": "stream",
     "text": [
      "          bmi_bin  stroke\n",
      "bmi_bin                  \n",
      "(0, 5]          0       0\n",
      "(5, 10]         0       0\n",
      "(10, 15]        3       3\n",
      "(15, 20]      103     103\n",
      "(20, 25]      678     678\n",
      "(25, 30]     1147    1147\n",
      "(30, 35]      728     728\n",
      "(35, 40]      390     390\n",
      "(40, 45]      198     198\n",
      "(45, 50]       59      59\n"
     ]
    }
   ],
   "source": [
    "print(quan_bin0_agg)"
   ]
  },
  {
   "cell_type": "code",
   "execution_count": null,
   "metadata": {},
   "outputs": [],
   "source": [
    "fig, axes = plt.subplots(nrows=2, ncols=1)\n",
    "ax1=df.plot(kind='bar',ax=axes[0], figsize=(15,10))\n",
    "ax1.title.set_text(\"\")\n",
    "ax2=df.plot(kind='bar',ax=axes[1], figsize=(15,10))\n",
    "ax2.title.set_text(\"\")\n",
    "plt.tight_layout()"
   ]
  },
  {
   "cell_type": "code",
   "execution_count": null,
   "metadata": {},
   "outputs": [],
   "source": []
  },
  {
   "cell_type": "markdown",
   "metadata": {},
   "source": [
    "## 2.5.B BIN TRANSFORMATION: Stroke Frequency per Bin Seaborn Histogram (Option 2)"
   ]
  },
  {
   "cell_type": "code",
   "execution_count": 173,
   "metadata": {
    "scrolled": false
   },
   "outputs": [],
   "source": [
    "# plotting bins using Seaborn Histogram function\n",
    "def quan_hist(df,col):\n",
    "    yes=df[df['stroke']==1]\n",
    "    no=df[df['stroke']==0]\n",
    "    plt.figure(figsize = (12, 6))\n",
    "    _=plt.hist(yes[col], bins=20)\n",
    "    _=plt.xlabel(col,fontsize=20)\n",
    "    _=plt.ylabel('Stroke Frequency', fontsize=20)\n",
    "    plt.figure(figsize = (12, 6))\n",
    "    _=plt.hist(no[col], bins=20)\n",
    "    _=plt.xlabel(col,fontsize=20)\n",
    "    _=plt.ylabel('Non-Stroke Frequency',fontsize=20)\n",
    "    print()\n",
    "    print()\n",
    "    print()\n",
    "    print()\n",
    "    print()\n",
    "    print()\n",
    "\n"
   ]
  },
  {
   "cell_type": "code",
   "execution_count": 174,
   "metadata": {},
   "outputs": [
    {
     "name": "stdout",
     "output_type": "stream",
     "text": [
      "\n",
      "\n",
      "\n",
      "\n",
      "\n",
      "\n"
     ]
    },
    {
     "data": {
      "image/png": "[encoded data removed]",
      "text/plain": [
       "<Figure size 864x432 with 1 Axes>"
      ]
     },
     "metadata": {
      "needs_background": "light"
     },
     "output_type": "display_data"
    },
    {
     "data": {
      "image/png": "[encoded data removed]",
      "text/plain": [
       "<Figure size 864x432 with 1 Axes>"
      ]
     },
     "metadata": {
      "needs_background": "light"
     },
     "output_type": "display_data"
    }
   ],
   "source": [
    "quan_hist(stroke_med,'age')"
   ]
  },
  {
   "cell_type": "code",
   "execution_count": 175,
   "metadata": {},
   "outputs": [
    {
     "name": "stdout",
     "output_type": "stream",
     "text": [
      "\n",
      "\n",
      "\n",
      "\n",
      "\n",
      "\n"
     ]
    },
    {
     "data": {
      "image/png": "[encoded data removed]",
      "text/plain": [
       "<Figure size 864x432 with 1 Axes>"
      ]
     },
     "metadata": {
      "needs_background": "light"
     },
     "output_type": "display_data"
    },
    {
     "data": {
      "image/png": "[encoded data removed]",
      "text/plain": [
       "<Figure size 864x432 with 1 Axes>"
      ]
     },
     "metadata": {
      "needs_background": "light"
     },
     "output_type": "display_data"
    }
   ],
   "source": [
    "quan_hist(stroke_med,'avg_glucose_level')"
   ]
  },
  {
   "cell_type": "code",
   "execution_count": 176,
   "metadata": {},
   "outputs": [
    {
     "name": "stdout",
     "output_type": "stream",
     "text": [
      "\n",
      "\n",
      "\n",
      "\n",
      "\n",
      "\n"
     ]
    },
    {
     "data": {
      "image/png": "[encoded data removed]",
      "text/plain": [
       "<Figure size 864x432 with 1 Axes>"
      ]
     },
     "metadata": {
      "needs_background": "light"
     },
     "output_type": "display_data"
    },
    {
     "data": {
      "image/png": "[encoded data removed]",
      "text/plain": [
       "<Figure size 864x432 with 1 Axes>"
      ]
     },
     "metadata": {
      "needs_background": "light"
     },
     "output_type": "display_data"
    }
   ],
   "source": [
    "quan_hist(stroke_med,'bmi')"
   ]
  },
  {
   "cell_type": "markdown",
   "metadata": {},
   "source": [
    "## 2.6 BINOMIAL VARIABLES - Bar Chart"
   ]
  },
  {
   "cell_type": "code",
   "execution_count": 177,
   "metadata": {},
   "outputs": [],
   "source": [
    "\n",
    "def bar_proportions(df, col):\n",
    "    \n",
    "    # Totals\n",
    "    print(\"Totals per Variable: \")\n",
    "    print(df[col].value_counts())\n",
    "    print()\n",
    "    print()\n",
    "    \n",
    "    y_ys=df[[col,'stroke']].loc[(df[col] == 1)&(df['stroke'] == 1)].count()\n",
    "    n_ys=df[[col,'stroke']].loc[(df[col] == 0)&(df['stroke'] == 1)].count()\n",
    "    count=(stroke_med['stroke']==1).sum()\n",
    "    # % of Patients with Hypertension and Stroke\n",
    "    x=y_ys/count\n",
    "    print(\"STROKE\")\n",
    "    print(\"{}% of Stroke Patients are {} positive.\".format(round(x.iloc[1]*100,2),col))\n",
    "    print(\"{} patients out of {} total.\".format(y_ys.iloc[0],count))\n",
    "    print()\n",
    "    print()\n",
    "    # % of Patients with no Hypertension but with a Stroke\n",
    "    z=n_ys/count\n",
    "\n",
    "    print(\"{}% of Stroke Patients are {} negative.\".format(round(z.iloc[1]*100,2),col))\n",
    "    print(\"{} patients out of {} total.\".format(n_ys.iloc[0],count))\n",
    "\n",
    "    print()\n",
    "    print()\n",
    "    print()\n",
    "    #NON STROKE VERSION\n",
    "    n_ns=df[[col,'stroke']].loc[(df[col] == 0)&(df['stroke'] == 0)].count()\n",
    "    y_ns=df[[col,'stroke']].loc[(df[col] == 1)&(df['stroke'] == 0)].count()\n",
    "    count0=(stroke_med['stroke']==0).sum()\n",
    "    # % of Patients with Hypertension and Stroke\n",
    "    x0=y_ns/count0\n",
    "    print(\"NON-STROKE\")\n",
    "    print(\"{}% of Non-Stroke Patients are {} positive.\".format(round(x0.iloc[1]*100,2),col))\n",
    "    print(\"{} patients out of {} total.\".format(y_ns.iloc[0],count0))\n",
    "    print()\n",
    "    print()\n",
    "    # % of Patients with no Hypertension but with a Stroke\n",
    "    z0=n_ns/count0\n",
    "    print(\"{}% of Non-Stroke Patients are {} negative.\".format(round(z0.iloc[1]*100,2),col))\n",
    "    print(\"{} patients out of {} total.\".format(n_ns.iloc[0],count0))\n",
    "\n",
    "    #calculate percentages\n",
    "    def func(pct, allvals):\n",
    "        absolute = int(pct/100.*np.sum(allvals))\n",
    "        return \"{:.2f}%\".format(pct, absolute)\n",
    "    \n",
    "    # LABELS: Arrow and boxes\n",
    "    bbox_props = dict(boxstyle=\"square,pad=0.3\", fc=\"w\", ec=\"k\", lw=0.72)\n",
    "    kw = dict(arrowprops=dict(arrowstyle=\"-\"),\n",
    "    bbox=bbox_props, zorder=0, va=\"center\")\n",
    "\n",
    "   \n",
    "    \n",
    "    %matplotlib inline\n",
    "    pd.crosstab(df[col],df['stroke']).plot(kind='bar')\n",
    "    plt.title('Stroke Frequency for {}'.format(col))\n",
    "    plt.xlabel(col)\n",
    "    plt.ylabel('Frequency of Stroke')\n",
    "    plt.savefig('stroke_freq_{}'.format(col))"
   ]
  },
  {
   "cell_type": "markdown",
   "metadata": {},
   "source": [
    "#### Gender"
   ]
  },
  {
   "cell_type": "code",
   "execution_count": 178,
   "metadata": {},
   "outputs": [
    {
     "name": "stdout",
     "output_type": "stream",
     "text": [
      "Positive: Male\n",
      "Negative: Female\n",
      "\n",
      "Totals per Variable: \n",
      "0    2158\n",
      "1    1407\n",
      "Name: gender, dtype: int64\n",
      "\n",
      "\n",
      "STROKE\n",
      "42.57% of Stroke Patients are gender positive.\n",
      "86 patients out of 202 total.\n",
      "\n",
      "\n",
      "57.43% of Stroke Patients are gender negative.\n",
      "116 patients out of 202 total.\n",
      "\n",
      "\n",
      "\n",
      "NON-STROKE\n",
      "39.28% of Non-Stroke Patients are gender positive.\n",
      "1321 patients out of 3363 total.\n",
      "\n",
      "\n",
      "60.72% of Non-Stroke Patients are gender negative.\n",
      "2042 patients out of 3363 total.\n"
     ]
    },
    {
     "data": {
      "image/png": "[encoded data removed]",
      "text/plain": [
       "<Figure size 432x288 with 1 Axes>"
      ]
     },
     "metadata": {
      "needs_background": "light"
     },
     "output_type": "display_data"
    }
   ],
   "source": [
    "print(\"Positive: Male\")\n",
    "print(\"Negative: Female\")\n",
    "print()\n",
    "bar_proportions(stroke_med,'gender')\n"
   ]
  },
  {
   "cell_type": "markdown",
   "metadata": {},
   "source": [
    "#### HYPERTENSION"
   ]
  },
  {
   "cell_type": "code",
   "execution_count": 179,
   "metadata": {},
   "outputs": [
    {
     "name": "stdout",
     "output_type": "stream",
     "text": [
      "Totals per Variable: \n",
      "0    3119\n",
      "1     446\n",
      "Name: hypertension, dtype: int64\n",
      "\n",
      "\n",
      "STROKE\n",
      "30.69% of Stroke Patients are hypertension positive.\n",
      "62 patients out of 202 total.\n",
      "\n",
      "\n",
      "69.31% of Stroke Patients are hypertension negative.\n",
      "140 patients out of 202 total.\n",
      "\n",
      "\n",
      "\n",
      "NON-STROKE\n",
      "11.42% of Non-Stroke Patients are hypertension positive.\n",
      "384 patients out of 3363 total.\n",
      "\n",
      "\n",
      "88.58% of Non-Stroke Patients are hypertension negative.\n",
      "2979 patients out of 3363 total.\n"
     ]
    },
    {
     "data": {
      "image/png": "[encoded data removed]",
      "text/plain": [
       "<Figure size 432x288 with 1 Axes>"
      ]
     },
     "metadata": {
      "needs_background": "light"
     },
     "output_type": "display_data"
    }
   ],
   "source": [
    "bar_proportions(stroke_med,'hypertension')\n"
   ]
  },
  {
   "cell_type": "markdown",
   "metadata": {},
   "source": [
    "#### HEART DISEASE"
   ]
  },
  {
   "cell_type": "code",
   "execution_count": 180,
   "metadata": {},
   "outputs": [
    {
     "name": "stdout",
     "output_type": "stream",
     "text": [
      "Totals per Variable: \n",
      "0    3337\n",
      "1     228\n",
      "Name: heart_disease, dtype: int64\n",
      "\n",
      "\n",
      "STROKE\n",
      "19.31% of Stroke Patients are heart_disease positive.\n",
      "39 patients out of 202 total.\n",
      "\n",
      "\n",
      "80.69% of Stroke Patients are heart_disease negative.\n",
      "163 patients out of 202 total.\n",
      "\n",
      "\n",
      "\n",
      "NON-STROKE\n",
      "5.62% of Non-Stroke Patients are heart_disease positive.\n",
      "189 patients out of 3363 total.\n",
      "\n",
      "\n",
      "94.38% of Non-Stroke Patients are heart_disease negative.\n",
      "3174 patients out of 3363 total.\n"
     ]
    },
    {
     "data": {
      "image/png": "[encoded data removed]",
      "text/plain": [
       "<Figure size 432x288 with 1 Axes>"
      ]
     },
     "metadata": {
      "needs_background": "light"
     },
     "output_type": "display_data"
    }
   ],
   "source": [
    "bar_proportions(stroke_med,'heart_disease')\n"
   ]
  },
  {
   "cell_type": "markdown",
   "metadata": {},
   "source": [
    "#### EVER MARRIED\n"
   ]
  },
  {
   "cell_type": "code",
   "execution_count": 181,
   "metadata": {},
   "outputs": [
    {
     "name": "stdout",
     "output_type": "stream",
     "text": [
      "Totals per Variable: \n",
      "1    2710\n",
      "0     855\n",
      "Name: ever_married, dtype: int64\n",
      "\n",
      "\n",
      "STROKE\n",
      "89.6% of Stroke Patients are ever_married positive.\n",
      "181 patients out of 202 total.\n",
      "\n",
      "\n",
      "10.4% of Stroke Patients are ever_married negative.\n",
      "21 patients out of 202 total.\n",
      "\n",
      "\n",
      "\n",
      "NON-STROKE\n",
      "75.2% of Non-Stroke Patients are ever_married positive.\n",
      "2529 patients out of 3363 total.\n",
      "\n",
      "\n",
      "24.8% of Non-Stroke Patients are ever_married negative.\n",
      "834 patients out of 3363 total.\n"
     ]
    },
    {
     "data": {
      "image/png": "[encoded data removed]",
      "text/plain": [
       "<Figure size 432x288 with 1 Axes>"
      ]
     },
     "metadata": {
      "needs_background": "light"
     },
     "output_type": "display_data"
    }
   ],
   "source": [
    "bar_proportions(stroke_med,'ever_married')\n"
   ]
  },
  {
   "cell_type": "markdown",
   "metadata": {},
   "source": [
    "#### RESIDENCE TYPE"
   ]
  },
  {
   "cell_type": "code",
   "execution_count": 182,
   "metadata": {},
   "outputs": [
    {
     "name": "stdout",
     "output_type": "stream",
     "text": [
      "Positive: Urban\n",
      "Negative: Rural\n",
      "\n",
      "Totals per Variable: \n",
      "1    1814\n",
      "0    1751\n",
      "Name: Residence_type, dtype: int64\n",
      "\n",
      "\n",
      "STROKE\n",
      "52.48% of Stroke Patients are Residence_type positive.\n",
      "106 patients out of 202 total.\n",
      "\n",
      "\n",
      "47.52% of Stroke Patients are Residence_type negative.\n",
      "96 patients out of 202 total.\n",
      "\n",
      "\n",
      "\n",
      "NON-STROKE\n",
      "50.79% of Non-Stroke Patients are Residence_type positive.\n",
      "1708 patients out of 3363 total.\n",
      "\n",
      "\n",
      "49.21% of Non-Stroke Patients are Residence_type negative.\n",
      "1655 patients out of 3363 total.\n"
     ]
    },
    {
     "data": {
      "image/png": "[encoded data removed]",
      "text/plain": [
       "<Figure size 432x288 with 1 Axes>"
      ]
     },
     "metadata": {
      "needs_background": "light"
     },
     "output_type": "display_data"
    }
   ],
   "source": [
    "print(\"Positive: Urban\")\n",
    "print(\"Negative: Rural\")\n",
    "print()\n",
    "bar_proportions(stroke_med,'Residence_type')"
   ]
  },
  {
   "cell_type": "markdown",
   "metadata": {},
   "source": [
    "## 2.7 CATEGORICAL VARIABLES: Pie Chart & Calculations"
   ]
  },
  {
   "cell_type": "code",
   "execution_count": 183,
   "metadata": {},
   "outputs": [],
   "source": [
    "def cat_pie_porportions1(df, col):\n",
    "            \n",
    "    # Totals\n",
    "    print(\"Totals per Variable: \")\n",
    "    print(df[col].value_counts())\n",
    "    print()\n",
    "    print()\n",
    "\n",
    "    \n",
    "    smoke_totals1=df[[col,'stroke']].loc[(df['stroke']==1)].groupby([col]).count()\n",
    "    smoke_totals0=df[[col,'stroke']].loc[(df['stroke']==0)].groupby([col]).count()\n",
    "    count1=(df['stroke']==1).sum()\n",
    "    count0=(df['stroke']==0).sum()\n",
    "    # % of Patients with Hypertension and Stroke\n",
    "    x1=smoke_totals1/count1\n",
    "    x0=smoke_totals0/count0\n",
    "    print(\"Percentages of {} from all Stroke Observations\".format(col))\n",
    "    print(round(x1,2))\n",
    "    print(\"Percentages of {} from all Non-Stroke Observations\".format(col))\n",
    "    print(round(x0,2))\n",
    "    \n",
    "    %matplotlib inline\n",
    "    ax1=pd.crosstab(df[col],df['stroke']).plot(kind='bar')\n",
    "    plt.title('Stroke Frequency for {}'.format(col))\n",
    "    plt.xlabel(col)\n",
    "    plt.ylabel('Frequency of Stroke')\n",
    "\n",
    "\n"
   ]
  },
  {
   "cell_type": "code",
   "execution_count": 184,
   "metadata": {
    "scrolled": false
   },
   "outputs": [
    {
     "name": "stdout",
     "output_type": "stream",
     "text": [
      "Totals per Variable: \n",
      "never smoked       1892\n",
      "formerly smoked     884\n",
      "smokes              789\n",
      "Name: smoking_status, dtype: int64\n",
      "\n",
      "\n",
      "Percentages of smoking_status from all Stroke Observations\n",
      "                 stroke\n",
      "smoking_status         \n",
      "formerly smoked    0.35\n",
      "never smoked       0.45\n",
      "smokes             0.21\n",
      "Percentages of smoking_status from all Non-Stroke Observations\n",
      "                 stroke\n",
      "smoking_status         \n",
      "formerly smoked    0.24\n",
      "never smoked       0.54\n",
      "smokes             0.22\n"
     ]
    },
    {
     "data": {
      "image/png": "[encoded data removed]",
      "text/plain": [
       "<Figure size 432x288 with 1 Axes>"
      ]
     },
     "metadata": {
      "needs_background": "light"
     },
     "output_type": "display_data"
    }
   ],
   "source": [
    "cat_pie_porportions1(stroke_med,'smoking_status')\n"
   ]
  },
  {
   "cell_type": "code",
   "execution_count": 185,
   "metadata": {},
   "outputs": [
    {
     "name": "stdout",
     "output_type": "stream",
     "text": [
      "Totals per Variable: \n",
      "Private          2284\n",
      "Self-employed     663\n",
      "Govt_job          535\n",
      "children           69\n",
      "Never_worked       14\n",
      "Name: work_type, dtype: int64\n",
      "\n",
      "\n",
      "Percentages of work_type from all Stroke Observations\n",
      "               stroke\n",
      "work_type            \n",
      "Govt_job         0.12\n",
      "Private          0.59\n",
      "Self-employed    0.28\n",
      "Percentages of work_type from all Non-Stroke Observations\n",
      "               stroke\n",
      "work_type            \n",
      "Govt_job         0.15\n",
      "Never_worked     0.00\n",
      "Private          0.64\n",
      "Self-employed    0.18\n",
      "children         0.02\n"
     ]
    },
    {
     "data": {
      "image/png": "[encoded data removed]",
      "text/plain": [
       "<Figure size 432x288 with 1 Axes>"
      ]
     },
     "metadata": {
      "needs_background": "light"
     },
     "output_type": "display_data"
    }
   ],
   "source": [
    "cat_pie_porportions1(stroke_med,'work_type')"
   ]
  },
  {
   "cell_type": "markdown",
   "metadata": {},
   "source": [
    "### INSIGHTS: DATA EXPLORATION"
   ]
  },
  {
   "cell_type": "markdown",
   "metadata": {},
   "source": [
    "### A) CONTINUOUS VARIABLES:"
   ]
  },
  {
   "cell_type": "markdown",
   "metadata": {},
   "source": [
    "#### CHANGE IN MEDIAN:\n",
    "\n",
    "#### 1.  AGE: The median Age increased the most at 47.92% of all continuous variables from 48 to 71 years old for stroke patients.\n",
    "#### 2. GLUCOSE: The median Average Glucose Levels increased 15.75% from 92.07 mg/dL to 106.57 for stroke patients, 2nd most among continuous variables.\n",
    "#### 3. BMI: The median BMI did not change for stroke patients.\n",
    "\n",
    "\n"
   ]
  },
  {
   "cell_type": "markdown",
   "metadata": {},
   "source": [
    "### OUTLIERS:\n",
    "\n",
    "#### 1. AGE: There are no age outliers among stroke and non-stroke observations.\n",
    "#### 2. GLUCOSE: There are no glucose outliers among the 202 stroke observations, but there are 448 or 13.3% outliers among non-stroke observations.  The upper limit of the box plot is Upper Limit: 170.39, while the Max observation is 267.76.\n",
    "#### 3. BMI: There are 12 or 5.9% BMI outliers among the 202 stroke observations, and 91 or 2.7% BMI outliers among 3364 non-stroke observations.  \n",
    "\n",
    "#### CONCLUSION: Due to the low volume of Stroke=1 observations, all outliers will be included in the experiement.\n",
    "\n",
    "\n",
    "\n"
   ]
  },
  {
   "cell_type": "markdown",
   "metadata": {},
   "source": [
    "### INTERQUARTILE RANGE\n",
    "\n",
    "#### 1. AGE: The Interquartile Range (middle 50%) is 35% smaller for stroke observations, meaning less variance in age around the 71 year old median.\n",
    "\n",
    "#### 2. GLUCOSE: The Interquartile Range (middle 50%) is nearly 400% larger for stroke observations, meaning a significant increase in variance. The min, Q1 and Median are all very similar for stroke vs non-stroke, but stroke Q3 is 90 points higher than the median, where non-stroke Q3 is only 22 points higher at 114.   \n",
    "\n",
    "#### 3. BMI: The Interquartile Range (middle 50%) is 45% smaller for stroke observations, meaning a significant decrease in variance.\n",
    "\n"
   ]
  },
  {
   "cell_type": "markdown",
   "metadata": {},
   "source": [
    "##@ RANGE DISTRIBUTION: \n",
    "\n",
    "#### 1. AGE: The range from max to min shrinks from 72 years for non-stroke, down to 50 years for stroke observations. All quartiles, minimums and maximumns are increased by nearly 20 years for stroke observations.\n",
    "\n",
    "#### 2. GLUCOSE: The range from max to min is very simiar between stroke and non-stroke, meaning that the significant increase in the 3rd quartile for stroke points to any score above the non-stroke Q3 is more coorilated to stroke.\n",
    "\n",
    "#### 3. BMI: Most of the stroke observations seem to be closer to the median than the non-stroke.\n",
    "\n"
   ]
  },
  {
   "cell_type": "markdown",
   "metadata": {},
   "source": [
    "### STROKE DISTRIBUTION per UNIQUE RAW VALUES:\n",
    "#### 1. AGE: a count bar graph per age clearly shows an uptick in stroke observatioons per age from 54 to 77 years old, and then a large increase from 78 years old and older.\n",
    "#### 2. GLUCOSE: the avg_glucose_level is a continuous variable resulting in a large number of unique values and a vary chaotic raw data bar graph.  Glucose will benefit from binning, in the next step.\n",
    "#### 3. BMI: Stroke observation frequency shoes roughly even distribution across the range of BMI values, however a large spike can be seen at the median, as that value was used to as a substitute for missing values."
   ]
  },
  {
   "cell_type": "markdown",
   "metadata": {},
   "source": [
    "### STROKE & NON STROKE DISTRIBUTION per BIN:\n",
    "#### 1. AGE: Using 5 year bins for age, we observe a positively scewed distribution from 30 to 85 years old, with the peak between 75 and 80.  Among Non-stroke observations, we see a much more symmetrical normal distribution between 5 and 85 years old, with the peak between 50 and 55 years old.\n",
    "#### 2. GLUCOSE: Among stroke bins, we see the first peak of 29 stroke observations between 70-80mg/dL, which then slopes down to a low between 150-160mg/dL, then spikes back up between 190-200 with 15 observations.  Non-Stroke follows a similar 2 peak path, except with the first peak between 80-90 much higher in frequency(578 observations), and the second peak between 200-210 at a relatively lower frequency with 80 observations.  The second peak might be key in using glucose level to predict stroke\n",
    "#### 3. BMI: Both Stroke and non stroke bin graphs show very similar slightly negative skewed graphs.  Non-stroke is on a much larger scale even though distributions are similar.  "
   ]
  },
  {
   "cell_type": "markdown",
   "metadata": {},
   "source": [
    "### B) QUALITATIVE BINARY VARIABLES: STROKE vs NON-STROKE"
   ]
  },
  {
   "cell_type": "markdown",
   "metadata": {},
   "source": [
    "#### 1. GENDER: Both Stroke and Non-Stroke distributions come in around 60% Female and 40% male, however we do see a 3% increase to 42.5% in the male population when looking at stroke observations, vs non-stroke which males only have 29.3%.  \n",
    "#### 2. HYPERTENSION: Stroke positive/hypertension positive observations showed a 20% increase for a total of 30.7%, compared to stroke negative/ hypertension positive.  Among stroke negative observations, hypertension positive shrinks down to 11.41% and non stroke/non hypertension grows to 88.6%. \n",
    "#### 3. HEART DISEASE: Similar to HYPERTENSION, we see a large increase in the % of stroke positive/heart disease positive at 19.31%, which is a significant increase versus stroke negative/heart disease positive observations which only apply to 5.6% of the non-stroke population.\n",
    "#### 4.  MARRIAGE STATUS: We observe a 14% increase in the percentage of married observations when looking at the stroke positive population.  Stroke positive shows 89.6% married, 10.4% never married. Stroke Negative shows 75.1% married, 24.8% never married.  Marital stresses, sharing of unhealthy living habits or the increased likely hood of parenting stress could be the cause of this increase in stroke proportion.\n",
    "#### 5. RESIDENCE TYPE: Stroke positive observations show just under a 2% increase in urban residence vs non-stroke.  Urban living increasing the likelyhood of stroke could be due to more access to processed foods, vehicle pollution or second hand smoke."
   ]
  },
  {
   "cell_type": "markdown",
   "metadata": {},
   "source": [
    "### C) QUALITATIVE NON-BINARY: Percentage & Count Breakdown of Stroke Positive Patients per Variable"
   ]
  },
  {
   "cell_type": "markdown",
   "metadata": {},
   "source": [
    "#### 1. SMOKING STATUS: Even though we see a 10% flip flop between \"formerly smoked\" and \"never smoked\" observations when comparing Stroke vs Non-Stroke, the percentage of currently \"smokes\" almost stayed the same, decreasing 1% from 22% to 21% for stroke positive smokers.\n",
    "\n",
    "#### 2. WORK TYPE: We see a 10% increase in \"Private\" employment among Stroke observations. This is the only increase and the biggest change among work types.  This might be attributed to the extra stresses that come with running your own company."
   ]
  },
  {
   "cell_type": "markdown",
   "metadata": {},
   "source": [
    "## 2.8 CONCLUSIONS: Variables that show significant change when Stroke=1:\n",
    "#### Continuous: Age, Avg Glucose Level\n",
    "#### Catagorical Binary: Hypertension, Heart Disease, Ever Married\n",
    "#### Catagorical Non-Binary: Work Type"
   ]
  },
  {
   "cell_type": "markdown",
   "metadata": {},
   "source": [
    "## 2.9 CHI SQUARED TEST: Categorical Variables"
   ]
  },
  {
   "cell_type": "code",
   "execution_count": 186,
   "metadata": {},
   "outputs": [],
   "source": [
    "## ASSUMPTIONS: Independent Chi-Squared-Test\n",
    "#### 1. Comparing 2 categorical variables.\n",
    "#### 2. Sample is randomly drawn from population(no repeatable).\n",
    "#### 3. Expected values in cells are at least 5\n",
    "\n",
    "# Convert DF into contingency table\n",
    "chi_df=stroke_med.iloc[:,[1,3,4,5,7,11]]"
   ]
  },
  {
   "cell_type": "code",
   "execution_count": 187,
   "metadata": {},
   "outputs": [],
   "source": [
    "reject_null=[]\n",
    "accept_null=[]\n",
    "chi_squared=[0]\n",
    "def chi_squared(df,cat,dependent,alpha):\n",
    "    if cat != 'stroke':\n",
    "        print('\\033[1m'+\"CHI-SQUARED TEST: {} vs {} - {}% Confidence Interval\"'\\033[0m'.format(cat,dependent,((1-alpha)*100)))    \n",
    "        #Contingency Count Table: Observed Values\n",
    "        conti=pd.crosstab(df[cat], df[dependent])\n",
    "        # Find chi squared value, p-value, degrees of freedom\n",
    "        c, p, dof, expected = chi2_contingency(conti)\n",
    "        print()\n",
    "        chisqt = pd.crosstab(df[cat], df[dependent], margins=True)\n",
    "        print(chisqt)\n",
    "        print()\n",
    "        \n",
    "        \n",
    "        #contingency percent table - IF DESIRED\n",
    "        conti_perc=pd.crosstab(df[cat], df[dependent], normalize='index')\n",
    "        print(conti_perc)\n",
    "        print()\n",
    "        \n",
    "        #Heatmap: Observed Values - IF DESIRED\n",
    "        plt.figure(figsize=(6,4))\n",
    "        sns.heatmap(conti, annot=True, cmap=\"YlGnBu\",fmt='g')\n",
    "        plt.show()\n",
    "        print()\n",
    "        \n",
    "        \n",
    "        # REMINDERS:\n",
    "        # p-value <= alpha: Reject Null\n",
    "        # X**2 value >= Critical look up value = Reject Null\n",
    "        # 95% Conf Int = 1-.95 = 0.05 ALPHA\n",
    "        # P-value(probabilitY): Prob that observed are chance alone, assuming null is true. aka % prob of NO RELATIONSHIP\n",
    "        # Smaller the P-value: the more unlikely the observed data is\n",
    "        # P <= A: Reject Null - \"Result is stat sig\" reasonabily sure something besides chance produced the observed\n",
    "        # P> A: Fail to reject Null - Results are not stat sig, observed can be product of chance      \n",
    "        # a = significance level = 0.05\n",
    "        # df & A = Critical Value\n",
    "\n",
    "        \n",
    "        # Find chi squared value, p-value, degrees of freedom\n",
    "        c, p, dof, expected = chi2_contingency(conti)\n",
    "        print()\n",
    "        print(\"DEGREES OF FREEDOM: \"+str(round(dof,2)))\n",
    "        print()\n",
    "        print()\n",
    "        print(\"ALPHA: {}\".format(alpha))\n",
    "        print(\"P-VALUE: \"+str((p)))\n",
    "        print()\n",
    "\n",
    "        print()\n",
    "        cv=scipy.stats.chi2.ppf(1-alpha, df=dof)\n",
    "        print(\"CRITICAL VALUE: {}\".format(cv))\n",
    "        print(\"CHI-SQUARED VALUE: \"+str(c))\n",
    "        print()\n",
    "\n",
    "        #convert expected values from scientific to deminal\n",
    "        np.set_printoptions(formatter={'float_kind':'{:f}'.format})\n",
    "        if len(df[cat].unique()) > 2:\n",
    "            exp2=expected[1:3,:]\n",
    "            print()\n",
    "            print()\n",
    "            print(\"EXPECTED VALUES: {} \".format(exp2))\n",
    "            print()\n",
    "            print(\"OBSERVED VALUES: {}\".format(conti))\n",
    "            print()\n",
    "            print()\n",
    "            print()\n",
    "            print()\n",
    "        else:\n",
    "            exp2=expected\n",
    "            print()\n",
    "            print()\n",
    "            print(\"EXPECTED VALUES: {} \".format(exp2))\n",
    "            print()\n",
    "            print(\"OBSERVED VALUES: {}\".format(conti))\n",
    "            print()\n",
    "            print()\n",
    "            print()\n",
    "            print()\n",
    "\n",
    "    #Assumption 1\n",
    "        print(\"CHI SQUARED ASSUMPTIONS\")\n",
    "        if ((cat in ['gender','hypertension','heart_disease','ever_married','Residence_type']) & (dependent == 'stroke')):\n",
    "            print(\"Assumption 1: Satisfied\")\n",
    "        else:\n",
    "            print(\"Assumption 1: Not-Satisfied\")\n",
    "\n",
    "\n",
    "    #Assumption 2\n",
    "        print('Assumption 2: Satisfied')\n",
    "\n",
    "\n",
    "    #Assumption 3\n",
    "        if (exp2.all()) > 5.00:\n",
    "            print(\"Assumption 3: Not-Satisfied\")\n",
    "        else:\n",
    "            print(\"Assumption 3: Satisfied\")\n",
    "        print()\n",
    "        print()\n",
    "        \n",
    "        #test inference:\n",
    "        if ((p<=alpha) & (c>=cv)):\n",
    "            print(\"P-Value <= Alpha ---------------- TRUE\") \n",
    "            print(\"Chi-Squared >= Critical Value --- TRUE\")\n",
    "            print()\n",
    "            print()\n",
    "            print('\\033[1m'+\"CONCLUSION: \"+'\\033[0m'+\"REJECT the Null Hypothesis, based on a {}% confidence interval, {} and {} have a statistically significant relationship. \".format(((1-alpha)*100),cat,dependent))\n",
    "            reject_null.append(cat)\n",
    "            print()\n",
    "            print()\n",
    "            print(\"Fail To Reject Null: {}\".format(accept_null))\n",
    "            print(\"Reject Null: {}\".format(reject_null))\n",
    "        else:\n",
    "            print(\"P-Value <= Alpha ---------------- FALSE\") \n",
    "            print(\"Chi-Squared >= Critical Value --- FALSE\")\n",
    "            print()\n",
    "            print()\n",
    "            print('\\033[1m'+\"CONCLUSION: \"+'\\033[0m'+\"FAIL to reject the Null Hypothesis. Based on a {}% confidence interval, we cannot conclude that {} and {} have a significant relationship.\".format(((1-alpha)*100),cat,dependent)) \n",
    "            accept_null.append(cat)\n",
    "            print()\n",
    "            print()\n",
    "            print(\"Fail To Reject Null: {}\".format(accept_null))\n",
    "            print(\"Reject Null: {}\".format(reject_null))\n"
   ]
  },
  {
   "cell_type": "code",
   "execution_count": 188,
   "metadata": {},
   "outputs": [
    {
     "name": "stdout",
     "output_type": "stream",
     "text": [
      "\u001b[1mCHI-SQUARED TEST: gender vs stroke - 95.0% Confidence Interval\u001b[0m\n",
      "\n",
      "stroke     0    1   All\n",
      "gender                 \n",
      "0       2042  116  2158\n",
      "1       1321   86  1407\n",
      "All     3363  202  3565\n",
      "\n",
      "stroke         0         1\n",
      "gender                    \n",
      "0       0.946247  0.053753\n",
      "1       0.938877  0.061123\n",
      "\n"
     ]
    },
    {
     "data": {
      "image/png": "[encoded data removed]",
      "text/plain": [
       "<Figure size 432x288 with 2 Axes>"
      ]
     },
     "metadata": {
      "needs_background": "light"
     },
     "output_type": "display_data"
    },
    {
     "name": "stdout",
     "output_type": "stream",
     "text": [
      "\n",
      "\n",
      "DEGREES OF FREEDOM: 1\n",
      "\n",
      "\n",
      "ALPHA: 0.05\n",
      "P-VALUE: 0.39191679619686126\n",
      "\n",
      "\n",
      "CRITICAL VALUE: 3.841458820694124\n",
      "CHI-SQUARED VALUE: 0.7329866887539882\n",
      "\n",
      "\n",
      "\n",
      "EXPECTED VALUES: [[2035.723422 122.276578]\n",
      " [1327.276578 79.723422]] \n",
      "\n",
      "OBSERVED VALUES: stroke     0    1\n",
      "gender           \n",
      "0       2042  116\n",
      "1       1321   86\n",
      "\n",
      "\n",
      "\n",
      "\n",
      "CHI SQUARED ASSUMPTIONS\n",
      "Assumption 1: Satisfied\n",
      "Assumption 2: Satisfied\n",
      "Assumption 3: Satisfied\n",
      "\n",
      "\n",
      "P-Value <= Alpha ---------------- FALSE\n",
      "Chi-Squared >= Critical Value --- FALSE\n",
      "\n",
      "\n",
      "\u001b[1mCONCLUSION: \u001b[0mFAIL to reject the Null Hypothesis. Based on a 95.0% confidence interval, we cannot conclude that gender and stroke have a significant relationship.\n",
      "\n",
      "\n",
      "Fail To Reject Null: ['gender']\n",
      "Reject Null: []\n"
     ]
    }
   ],
   "source": [
    "chi_squared(stroke_med,'gender','stroke',0.05)"
   ]
  },
  {
   "cell_type": "code",
   "execution_count": 189,
   "metadata": {},
   "outputs": [
    {
     "name": "stdout",
     "output_type": "stream",
     "text": [
      "\u001b[1mCHI-SQUARED TEST: hypertension vs stroke - 95.0% Confidence Interval\u001b[0m\n",
      "\n",
      "stroke           0    1   All\n",
      "hypertension                 \n",
      "0             2979  140  3119\n",
      "1              384   62   446\n",
      "All           3363  202  3565\n",
      "\n",
      "stroke               0         1\n",
      "hypertension                    \n",
      "0             0.955114  0.044886\n",
      "1             0.860987  0.139013\n",
      "\n"
     ]
    },
    {
     "data": {
      "image/png": "[encoded data removed]",
      "text/plain": [
       "<Figure size 432x288 with 2 Axes>"
      ]
     },
     "metadata": {
      "needs_background": "light"
     },
     "output_type": "display_data"
    },
    {
     "name": "stdout",
     "output_type": "stream",
     "text": [
      "\n",
      "\n",
      "DEGREES OF FREEDOM: 1\n",
      "\n",
      "\n",
      "ALPHA: 0.05\n",
      "P-VALUE: 2.141984399861361e-15\n",
      "\n",
      "\n",
      "CRITICAL VALUE: 3.841458820694124\n",
      "CHI-SQUARED VALUE: 62.92987571683084\n",
      "\n",
      "\n",
      "\n",
      "EXPECTED VALUES: [[2942.271248 176.728752]\n",
      " [420.728752 25.271248]] \n",
      "\n",
      "OBSERVED VALUES: stroke           0    1\n",
      "hypertension           \n",
      "0             2979  140\n",
      "1              384   62\n",
      "\n",
      "\n",
      "\n",
      "\n",
      "CHI SQUARED ASSUMPTIONS\n",
      "Assumption 1: Satisfied\n",
      "Assumption 2: Satisfied\n",
      "Assumption 3: Satisfied\n",
      "\n",
      "\n",
      "P-Value <= Alpha ---------------- TRUE\n",
      "Chi-Squared >= Critical Value --- TRUE\n",
      "\n",
      "\n",
      "\u001b[1mCONCLUSION: \u001b[0mREJECT the Null Hypothesis, based on a 95.0% confidence interval, hypertension and stroke have a statistically significant relationship. \n",
      "\n",
      "\n",
      "Fail To Reject Null: ['gender']\n",
      "Reject Null: ['hypertension']\n"
     ]
    }
   ],
   "source": [
    "chi_squared(stroke_med,'hypertension','stroke',0.05)"
   ]
  },
  {
   "cell_type": "code",
   "execution_count": 190,
   "metadata": {},
   "outputs": [
    {
     "name": "stdout",
     "output_type": "stream",
     "text": [
      "\u001b[1mCHI-SQUARED TEST: heart_disease vs stroke - 95.0% Confidence Interval\u001b[0m\n",
      "\n",
      "stroke            0    1   All\n",
      "heart_disease                 \n",
      "0              3174  163  3337\n",
      "1               189   39   228\n",
      "All            3363  202  3565\n",
      "\n",
      "stroke                0         1\n",
      "heart_disease                    \n",
      "0              0.951154  0.048846\n",
      "1              0.828947  0.171053\n",
      "\n"
     ]
    },
    {
     "data": {
      "image/png": "[encoded data removed]",
      "text/plain": [
       "<Figure size 432x288 with 2 Axes>"
      ]
     },
     "metadata": {
      "needs_background": "light"
     },
     "output_type": "display_data"
    },
    {
     "name": "stdout",
     "output_type": "stream",
     "text": [
      "\n",
      "\n",
      "DEGREES OF FREEDOM: 1\n",
      "\n",
      "\n",
      "ALPHA: 0.05\n",
      "P-VALUE: 3.6200203014426576e-14\n",
      "\n",
      "\n",
      "CRITICAL VALUE: 3.841458820694124\n",
      "CHI-SQUARED VALUE: 57.364945561560674\n",
      "\n",
      "\n",
      "\n",
      "EXPECTED VALUES: [[3147.918934 189.081066]\n",
      " [215.081066 12.918934]] \n",
      "\n",
      "OBSERVED VALUES: stroke            0    1\n",
      "heart_disease           \n",
      "0              3174  163\n",
      "1               189   39\n",
      "\n",
      "\n",
      "\n",
      "\n",
      "CHI SQUARED ASSUMPTIONS\n",
      "Assumption 1: Satisfied\n",
      "Assumption 2: Satisfied\n",
      "Assumption 3: Satisfied\n",
      "\n",
      "\n",
      "P-Value <= Alpha ---------------- TRUE\n",
      "Chi-Squared >= Critical Value --- TRUE\n",
      "\n",
      "\n",
      "\u001b[1mCONCLUSION: \u001b[0mREJECT the Null Hypothesis, based on a 95.0% confidence interval, heart_disease and stroke have a statistically significant relationship. \n",
      "\n",
      "\n",
      "Fail To Reject Null: ['gender']\n",
      "Reject Null: ['hypertension', 'heart_disease']\n"
     ]
    }
   ],
   "source": [
    "chi_squared(stroke_med,'heart_disease','stroke', 0.05)"
   ]
  },
  {
   "cell_type": "code",
   "execution_count": 191,
   "metadata": {},
   "outputs": [
    {
     "name": "stdout",
     "output_type": "stream",
     "text": [
      "\u001b[1mCHI-SQUARED TEST: ever_married vs stroke - 95.0% Confidence Interval\u001b[0m\n",
      "\n",
      "stroke           0    1   All\n",
      "ever_married                 \n",
      "0              834   21   855\n",
      "1             2529  181  2710\n",
      "All           3363  202  3565\n",
      "\n",
      "stroke               0         1\n",
      "ever_married                    \n",
      "0             0.975439  0.024561\n",
      "1             0.933210  0.066790\n",
      "\n"
     ]
    },
    {
     "data": {
      "image/png": "[encoded data removed]",
      "text/plain": [
       "<Figure size 432x288 with 2 Axes>"
      ]
     },
     "metadata": {
      "needs_background": "light"
     },
     "output_type": "display_data"
    },
    {
     "name": "stdout",
     "output_type": "stream",
     "text": [
      "\n",
      "\n",
      "DEGREES OF FREEDOM: 1\n",
      "\n",
      "\n",
      "ALPHA: 0.05\n",
      "P-VALUE: 4.838049413996532e-06\n",
      "\n",
      "\n",
      "CRITICAL VALUE: 3.841458820694124\n",
      "CHI-SQUARED VALUE: 20.900354937003705\n",
      "\n",
      "\n",
      "\n",
      "EXPECTED VALUES: [[806.553997 48.446003]\n",
      " [2556.446003 153.553997]] \n",
      "\n",
      "OBSERVED VALUES: stroke           0    1\n",
      "ever_married           \n",
      "0              834   21\n",
      "1             2529  181\n",
      "\n",
      "\n",
      "\n",
      "\n",
      "CHI SQUARED ASSUMPTIONS\n",
      "Assumption 1: Satisfied\n",
      "Assumption 2: Satisfied\n",
      "Assumption 3: Satisfied\n",
      "\n",
      "\n",
      "P-Value <= Alpha ---------------- TRUE\n",
      "Chi-Squared >= Critical Value --- TRUE\n",
      "\n",
      "\n",
      "\u001b[1mCONCLUSION: \u001b[0mREJECT the Null Hypothesis, based on a 95.0% confidence interval, ever_married and stroke have a statistically significant relationship. \n",
      "\n",
      "\n",
      "Fail To Reject Null: ['gender']\n",
      "Reject Null: ['hypertension', 'heart_disease', 'ever_married']\n"
     ]
    }
   ],
   "source": [
    "chi_squared(stroke_med,'ever_married','stroke', 0.05)"
   ]
  },
  {
   "cell_type": "code",
   "execution_count": 192,
   "metadata": {},
   "outputs": [
    {
     "name": "stdout",
     "output_type": "stream",
     "text": [
      "\u001b[1mCHI-SQUARED TEST: Residence_type vs stroke - 95.0% Confidence Interval\u001b[0m\n",
      "\n",
      "stroke             0    1   All\n",
      "Residence_type                 \n",
      "0               1655   96  1751\n",
      "1               1708  106  1814\n",
      "All             3363  202  3565\n",
      "\n",
      "stroke                 0         1\n",
      "Residence_type                    \n",
      "0               0.945174  0.054826\n",
      "1               0.941566  0.058434\n",
      "\n"
     ]
    },
    {
     "data": {
      "image/png": "[encoded data removed]",
      "text/plain": [
       "<Figure size 432x288 with 2 Axes>"
      ]
     },
     "metadata": {
      "needs_background": "light"
     },
     "output_type": "display_data"
    },
    {
     "name": "stdout",
     "output_type": "stream",
     "text": [
      "\n",
      "\n",
      "DEGREES OF FREEDOM: 1\n",
      "\n",
      "\n",
      "ALPHA: 0.05\n",
      "P-VALUE: 0.6939922918664747\n",
      "\n",
      "\n",
      "CRITICAL VALUE: 3.841458820694124\n",
      "CHI-SQUARED VALUE: 0.15479741960775273\n",
      "\n",
      "\n",
      "\n",
      "EXPECTED VALUES: [[1651.784853 99.215147]\n",
      " [1711.215147 102.784853]] \n",
      "\n",
      "OBSERVED VALUES: stroke             0    1\n",
      "Residence_type           \n",
      "0               1655   96\n",
      "1               1708  106\n",
      "\n",
      "\n",
      "\n",
      "\n",
      "CHI SQUARED ASSUMPTIONS\n",
      "Assumption 1: Satisfied\n",
      "Assumption 2: Satisfied\n",
      "Assumption 3: Satisfied\n",
      "\n",
      "\n",
      "P-Value <= Alpha ---------------- FALSE\n",
      "Chi-Squared >= Critical Value --- FALSE\n",
      "\n",
      "\n",
      "\u001b[1mCONCLUSION: \u001b[0mFAIL to reject the Null Hypothesis. Based on a 95.0% confidence interval, we cannot conclude that Residence_type and stroke have a significant relationship.\n",
      "\n",
      "\n",
      "Fail To Reject Null: ['gender', 'Residence_type']\n",
      "Reject Null: ['hypertension', 'heart_disease', 'ever_married']\n"
     ]
    }
   ],
   "source": [
    "chi_squared(stroke_med,'Residence_type','stroke', 0.05)"
   ]
  },
  {
   "cell_type": "code",
   "execution_count": 193,
   "metadata": {},
   "outputs": [
    {
     "name": "stdout",
     "output_type": "stream",
     "text": [
      "\u001b[1mCHI-SQUARED TEST: smoking_status vs stroke - 95.0% Confidence Interval\u001b[0m\n",
      "\n",
      "stroke              0    1   All\n",
      "smoking_status                  \n",
      "formerly smoked   814   70   884\n",
      "never smoked     1802   90  1892\n",
      "smokes            747   42   789\n",
      "All              3363  202  3565\n",
      "\n",
      "stroke                  0         1\n",
      "smoking_status                     \n",
      "formerly smoked  0.920814  0.079186\n",
      "never smoked     0.952431  0.047569\n",
      "smokes           0.946768  0.053232\n",
      "\n"
     ]
    },
    {
     "data": {
      "image/png": "[encoded data removed]",
      "text/plain": [
       "<Figure size 432x288 with 2 Axes>"
      ]
     },
     "metadata": {
      "needs_background": "light"
     },
     "output_type": "display_data"
    },
    {
     "name": "stdout",
     "output_type": "stream",
     "text": [
      "\n",
      "\n",
      "DEGREES OF FREEDOM: 2\n",
      "\n",
      "\n",
      "ALPHA: 0.05\n",
      "P-VALUE: 0.003197753320128626\n",
      "\n",
      "\n",
      "CRITICAL VALUE: 5.991464547107979\n",
      "CHI-SQUARED VALUE: 11.490613606430163\n",
      "\n",
      "\n",
      "\n",
      "EXPECTED VALUES: [[1784.795512 107.204488]\n",
      " [744.293689 44.706311]] \n",
      "\n",
      "OBSERVED VALUES: stroke              0   1\n",
      "smoking_status           \n",
      "formerly smoked   814  70\n",
      "never smoked     1802  90\n",
      "smokes            747  42\n",
      "\n",
      "\n",
      "\n",
      "\n",
      "CHI SQUARED ASSUMPTIONS\n",
      "Assumption 1: Not-Satisfied\n",
      "Assumption 2: Satisfied\n",
      "Assumption 3: Satisfied\n",
      "\n",
      "\n",
      "P-Value <= Alpha ---------------- TRUE\n",
      "Chi-Squared >= Critical Value --- TRUE\n",
      "\n",
      "\n",
      "\u001b[1mCONCLUSION: \u001b[0mREJECT the Null Hypothesis, based on a 95.0% confidence interval, smoking_status and stroke have a statistically significant relationship. \n",
      "\n",
      "\n",
      "Fail To Reject Null: ['gender', 'Residence_type']\n",
      "Reject Null: ['hypertension', 'heart_disease', 'ever_married', 'smoking_status']\n"
     ]
    }
   ],
   "source": [
    "chi_squared(stroke_med,'smoking_status','stroke', 0.05)"
   ]
  },
  {
   "cell_type": "code",
   "execution_count": 194,
   "metadata": {},
   "outputs": [
    {
     "name": "stdout",
     "output_type": "stream",
     "text": [
      "\u001b[1mCHI-SQUARED TEST: work_type vs stroke - 95.0% Confidence Interval\u001b[0m\n",
      "\n",
      "stroke            0    1   All\n",
      "work_type                     \n",
      "Govt_job        510   25   535\n",
      "Never_worked     14    0    14\n",
      "Private        2164  120  2284\n",
      "Self-employed   606   57   663\n",
      "children         69    0    69\n",
      "All            3363  202  3565\n",
      "\n",
      "stroke                0         1\n",
      "work_type                        \n",
      "Govt_job       0.953271  0.046729\n",
      "Never_worked   1.000000  0.000000\n",
      "Private        0.947461  0.052539\n",
      "Self-employed  0.914027  0.085973\n",
      "children       1.000000  0.000000\n",
      "\n"
     ]
    },
    {
     "data": {
      "image/png": "[encoded data removed]",
      "text/plain": [
       "<Figure size 432x288 with 2 Axes>"
      ]
     },
     "metadata": {
      "needs_background": "light"
     },
     "output_type": "display_data"
    },
    {
     "name": "stdout",
     "output_type": "stream",
     "text": [
      "\n",
      "\n",
      "DEGREES OF FREEDOM: 4\n",
      "\n",
      "\n",
      "ALPHA: 0.05\n",
      "P-VALUE: 0.0016483508577038448\n",
      "\n",
      "\n",
      "CRITICAL VALUE: 9.487729036781154\n",
      "CHI-SQUARED VALUE: 17.35563250645182\n",
      "\n",
      "\n",
      "\n",
      "EXPECTED VALUES: [[13.206732 0.793268]\n",
      " [2154.584011 129.415989]] \n",
      "\n",
      "OBSERVED VALUES: stroke            0    1\n",
      "work_type               \n",
      "Govt_job        510   25\n",
      "Never_worked     14    0\n",
      "Private        2164  120\n",
      "Self-employed   606   57\n",
      "children         69    0\n",
      "\n",
      "\n",
      "\n",
      "\n",
      "CHI SQUARED ASSUMPTIONS\n",
      "Assumption 1: Not-Satisfied\n",
      "Assumption 2: Satisfied\n",
      "Assumption 3: Satisfied\n",
      "\n",
      "\n",
      "P-Value <= Alpha ---------------- TRUE\n",
      "Chi-Squared >= Critical Value --- TRUE\n",
      "\n",
      "\n",
      "\u001b[1mCONCLUSION: \u001b[0mREJECT the Null Hypothesis, based on a 95.0% confidence interval, work_type and stroke have a statistically significant relationship. \n",
      "\n",
      "\n",
      "Fail To Reject Null: ['gender', 'Residence_type']\n",
      "Reject Null: ['hypertension', 'heart_disease', 'ever_married', 'smoking_status', 'work_type']\n"
     ]
    }
   ],
   "source": [
    "chi_squared(stroke_med,'work_type','stroke',0.05)"
   ]
  },
  {
   "cell_type": "markdown",
   "metadata": {},
   "source": [
    "## 2.10 T-TEST: Continuous Variables"
   ]
  },
  {
   "cell_type": "code",
   "execution_count": 195,
   "metadata": {},
   "outputs": [],
   "source": [
    "# B) Numerical Variables vs Stroke(Catagorical): T-Test\n",
    "\n",
    "def t_test_groups(df,cont,binary,alpha):\n",
    "    \n",
    "    alpha=alpha\n",
    "    #print title\n",
    "    print(('\\033[1m'+\"T-TEST: {} vs {} - {}% Confidence Interval\"+'\\033[0m').format(binary,cont,((1-alpha)*100)))    \n",
    "       \n",
    "    #Separate the 2 groups of continuous variable by each value in binary.\n",
    "    a=df[(df[binary]== 1)][cont]\n",
    "    b=df[(df[binary]== 0)][cont]\n",
    "    print()\n",
    "    \n",
    "    \n",
    "    #print Hypothesis'\n",
    "    print(\"Null: The means of both populations are equal\")\n",
    "    print(\"Alternative: The means of both populations are not equal\")    \n",
    "    print()\n",
    "    print()\n",
    "    \n",
    "    #T-test\n",
    "    tStat, p = stats.ttest_ind(a, b, equal_var = False) #run independent sample T-Test\n",
    "    print(\"P-Value:{0} T-Statistic:{1}\".format(p,tStat)) #print the P-Value and the T-Statistic\n",
    "    print()\n",
    "    if (p<=alpha):\n",
    "        print(\"P-Value <= Alpha ---------------- TRUE\") \n",
    "        print()\n",
    "        print()\n",
    "        print('\\033[1m'+\"CONCLUSION: \"+'\\033[0m'+\"REJECT the Null Hypothesis. Based on a {}% confidence interval, {} positive {} observations have a statistically significant difference in mean than for {} negative observations. \".format(((1-alpha)*100),binary,cont,binary))\n",
    "        reject_null.append(cont)\n",
    "        print()\n",
    "        print()\n",
    "        print(\"Accept Null: {}\".format(accept_null))\n",
    "        print(\"Reject Null: {}\".format(reject_null))    \n",
    "    else:\n",
    "        print(\"P-Value <= Alpha ---------------- FALSE\") \n",
    "        print(\"Chi-Squared >= Critical Value --- FALSE\")\n",
    "        print()\n",
    "        print()\n",
    "        print('\\033[1m'+\"CONCLUSION: \"+'\\033[0m'+\"FAIL to reject the Null Hypothesis. Based on a {}% confidence interval, we cannot conclude that {} positive {} observations have a statistically significant difference in mean than for {} negative observations. \".format(((1-alpha)*100),binary,cont,binary))\n",
    "        accept_null.append(cont)\n",
    "        print()\n",
    "        print()\n",
    "        print(\"Accept Null: {}\".format(accept_null))\n",
    "        print(\"Reject Null: {}\".format(reject_null))\n",
    "\n"
   ]
  },
  {
   "cell_type": "code",
   "execution_count": 196,
   "metadata": {},
   "outputs": [
    {
     "name": "stdout",
     "output_type": "stream",
     "text": [
      "\u001b[1mT-TEST: stroke vs age - 95.0% Confidence Interval\u001b[0m\n",
      "\n",
      "Null: The means of both populations are equal\n",
      "Alternative: The means of both populations are not equal\n",
      "\n",
      "\n",
      "P-Value:2.6361489409549117e-65 T-Statistic:23.051445501455497\n",
      "\n",
      "P-Value <= Alpha ---------------- TRUE\n",
      "\n",
      "\n",
      "\u001b[1mCONCLUSION: \u001b[0mREJECT the Null Hypothesis. Based on a 95.0% confidence interval, stroke positive age observations have a statistically significant difference in mean than for stroke negative observations. \n",
      "\n",
      "\n",
      "Accept Null: ['gender', 'Residence_type']\n",
      "Reject Null: ['hypertension', 'heart_disease', 'ever_married', 'smoking_status', 'work_type', 'age']\n"
     ]
    }
   ],
   "source": [
    "t_test_groups(stroke_med,'age','stroke',0.05)"
   ]
  },
  {
   "cell_type": "code",
   "execution_count": 197,
   "metadata": {},
   "outputs": [
    {
     "name": "stdout",
     "output_type": "stream",
     "text": [
      "\u001b[1mT-TEST: stroke vs avg_glucose_level - 95.0% Confidence Interval\u001b[0m\n",
      "\n",
      "Null: The means of both populations are equal\n",
      "Alternative: The means of both populations are not equal\n",
      "\n",
      "\n",
      "P-Value:9.718750282976495e-09 T-Statistic:5.970001486683919\n",
      "\n",
      "P-Value <= Alpha ---------------- TRUE\n",
      "\n",
      "\n",
      "\u001b[1mCONCLUSION: \u001b[0mREJECT the Null Hypothesis. Based on a 95.0% confidence interval, stroke positive avg_glucose_level observations have a statistically significant difference in mean than for stroke negative observations. \n",
      "\n",
      "\n",
      "Accept Null: ['gender', 'Residence_type']\n",
      "Reject Null: ['hypertension', 'heart_disease', 'ever_married', 'smoking_status', 'work_type', 'age', 'avg_glucose_level']\n"
     ]
    }
   ],
   "source": [
    "t_test_groups(stroke_med,'avg_glucose_level','stroke',0.05)"
   ]
  },
  {
   "cell_type": "code",
   "execution_count": 198,
   "metadata": {},
   "outputs": [
    {
     "name": "stdout",
     "output_type": "stream",
     "text": [
      "\u001b[1mT-TEST: stroke vs bmi - 95.0% Confidence Interval\u001b[0m\n",
      "\n",
      "Null: The means of both populations are equal\n",
      "Alternative: The means of both populations are not equal\n",
      "\n",
      "\n",
      "P-Value:0.5670410242351578 T-Statistic:0.5732150704713735\n",
      "\n",
      "P-Value <= Alpha ---------------- FALSE\n",
      "Chi-Squared >= Critical Value --- FALSE\n",
      "\n",
      "\n",
      "\u001b[1mCONCLUSION: \u001b[0mFAIL to reject the Null Hypothesis. Based on a 95.0% confidence interval, we cannot conclude that stroke positive bmi observations have a statistically significant difference in mean than for stroke negative observations. \n",
      "\n",
      "\n",
      "Accept Null: ['gender', 'Residence_type', 'bmi']\n",
      "Reject Null: ['hypertension', 'heart_disease', 'ever_married', 'smoking_status', 'work_type', 'age', 'avg_glucose_level']\n"
     ]
    }
   ],
   "source": [
    "t_test_groups(stroke_med,'bmi','stroke',0.05)\n",
    " "
   ]
  },
  {
   "cell_type": "markdown",
   "metadata": {},
   "source": [
    "## 2.11 ASSUMPTIONS: Independent T-Test\n",
    "#### 1. The independent variable (IV) is categorical with at least two levels (groups)\n",
    "#### 2. The dependent variable (DV) is continuous which is measured on an interval or ratio scale\n",
    "#### 3. The distribution of the two groups should follow the normal distribution\n",
    "#### 4. The variances between the two groups are equal\n",
    "\n",
    "    \n"
   ]
  },
  {
   "cell_type": "code",
   "execution_count": 220,
   "metadata": {},
   "outputs": [],
   "source": [
    "def t_assumptions(df,cont,dep, alpha_decimal):\n",
    "    yes=df[df[dep]==1]\n",
    "    no =df[df[dep]==0]\n",
    "    print(cont)\n",
    "    print()\n",
    "    #Assumption 1:\n",
    "    if len(df[dep].unique())>=2:\n",
    "        print(\"Assumption 1: Pass\")\n",
    "    else:\n",
    "        print(\"Assumption 1: Does Not Pass\")\n",
    "    print()\n",
    "    #Assumption 2:\n",
    "    if cont in ['age','bmi','avg_glucose_level']:\n",
    "        print(\"Assumption 2: Pass\")\n",
    "    else:\n",
    "        print(\"Assumption 2: Does Not Pass\")\n",
    "    print()\n",
    "    #Assumption 3: Normality(Shapiro-Wilk Test)\n",
    "    shapiro,p3 = stats.shapiro(df[cont])\n",
    "    if p3 <= alpha_decimal:\n",
    "        print(\"Assumption 3: Does Not Pass. There is NOT normality. P-value = {}. Reject null hypothesis at the α ={} level of significance. There is sufficent evidence to conclude that {} not normally distributed.\".format(p3,alpha_decimal, cont))\n",
    "    else:\n",
    "        print(\"Assumption 3: Pass. There is normality. P-value = {}. Fail to reject null hypothesis at the α ={} level of significance. There is not sufficent evidence to conclude that {} not normally distributed.\".format(p3,alpha_decimal, cont))\n",
    "    #plot histogram for normality visual\n",
    "    df[cont].plot(kind=\"hist\", title= \"Versicolor Sepal Width\", color=\"green\")\n",
    "    plt.xlabel(cont)\n",
    "    plt.savefig(cont)\n",
    "    print()          \n",
    "\n",
    "    #Assumption 4(Levene Test): Null=groups have equal pop variance\n",
    "    stat,p4 = (stats.levene(yes[cont],no[cont]))\n",
    "    if p4 <= alpha_decimal:\n",
    "        print(\"Assumption 4: Does Not Pass. There is NOT homogeneity of variance. P-value = {}. Reject null hypothesis at the α ={} level of significance. There is sufficent evidence to conclude the {} vs Non-{} samples do not have equal variances.\".format(p4,alpha_decimal, dep,dep))\n",
    "    else:\n",
    "        print(\"Assumption 4: Pass. There is homogeneity of variance. P-value = {}. Fail to reject null hypothesis at the α ={} level of significance. There is not sufficent evidence to conclude the {} vs Non-{} samples do not have equal variances.\".format(p4,alpha_decimal, dep,dep))\n",
    "              \n"
   ]
  },
  {
   "cell_type": "code",
   "execution_count": 200,
   "metadata": {},
   "outputs": [
    {
     "name": "stdout",
     "output_type": "stream",
     "text": [
      "age\n",
      "\n",
      "Assumption 1: Pass\n",
      "\n",
      "Assumption 2: Pass\n",
      "\n",
      "Assumption 3: Does Not Pass. There is NOT normality. P-value = 1.5288740640765413e-25. Reject null hypothesis at the α =0.05 level of significance. There is sufficent evidence to conclude that age not normally distributed.\n",
      "\n",
      "Assumption 4: Does Not Pass. There is NOT homogeneity of variance. P-value = 2.70370206471485e-16. Reject null hypothesis at the α =0.05 level of significance. There is sufficent evidence to conclude the stroke vs Non-stroke samples do not have equal variances.\n"
     ]
    },
    {
     "data": {
      "image/png": "[encoded data removed]",
      "text/plain": [
       "<Figure size 432x288 with 1 Axes>"
      ]
     },
     "metadata": {
      "needs_background": "light"
     },
     "output_type": "display_data"
    }
   ],
   "source": [
    "t_assumptions(stroke_med,'age','stroke',0.05)"
   ]
  },
  {
   "cell_type": "code",
   "execution_count": 201,
   "metadata": {},
   "outputs": [
    {
     "name": "stdout",
     "output_type": "stream",
     "text": [
      "bmi\n",
      "\n",
      "Assumption 1: Pass\n",
      "\n",
      "Assumption 2: Pass\n",
      "\n",
      "Assumption 3: Does Not Pass. There is NOT normality. P-value = 1.2601990538796752e-36. Reject null hypothesis at the α =0.05 level of significance. There is sufficent evidence to conclude that bmi not normally distributed.\n",
      "\n",
      "Assumption 4: Does Not Pass. There is NOT homogeneity of variance. P-value = 0.004442871601966596. Reject null hypothesis at the α =0.05 level of significance. There is sufficent evidence to conclude the stroke vs Non-stroke samples do not have equal variances.\n"
     ]
    },
    {
     "data": {
      "image/png": "[encoded data removed]",
      "text/plain": [
       "<Figure size 432x288 with 1 Axes>"
      ]
     },
     "metadata": {
      "needs_background": "light"
     },
     "output_type": "display_data"
    }
   ],
   "source": [
    "t_assumptions(stroke_med,'bmi','stroke',0.05)"
   ]
  },
  {
   "cell_type": "code",
   "execution_count": 202,
   "metadata": {},
   "outputs": [
    {
     "name": "stdout",
     "output_type": "stream",
     "text": [
      "avg_glucose_level\n",
      "\n",
      "Assumption 1: Pass\n",
      "\n",
      "Assumption 2: Pass\n",
      "\n",
      "Assumption 3: Does Not Pass. There is NOT normality. P-value = 0.0. Reject null hypothesis at the α =0.05 level of significance. There is sufficent evidence to conclude that avg_glucose_level not normally distributed.\n",
      "\n",
      "Assumption 4: Does Not Pass. There is NOT homogeneity of variance. P-value = 9.748447413139606e-15. Reject null hypothesis at the α =0.05 level of significance. There is sufficent evidence to conclude the stroke vs Non-stroke samples do not have equal variances.\n"
     ]
    },
    {
     "data": {
      "image/png": "[encoded data removed]",
      "text/plain": [
       "<Figure size 432x288 with 1 Axes>"
      ]
     },
     "metadata": {
      "needs_background": "light"
     },
     "output_type": "display_data"
    }
   ],
   "source": [
    " t_assumptions(stroke_med,'avg_glucose_level','stroke',0.05)"
   ]
  },
  {
   "cell_type": "code",
   "execution_count": 203,
   "metadata": {},
   "outputs": [
    {
     "name": "stdout",
     "output_type": "stream",
     "text": [
      "Fail to Reject Null: ['gender', 'Residence_type', 'bmi']\n",
      "\n",
      "These variables do not have a statistically significant association to Stroke.\n",
      "However, we will proceed to include all in the Logistic Regression.\n",
      "Even if a single variable has little individual effect on the dependant variable, effects may exponentially increase when\n",
      "interacting with other independent variables. This tendency is low but we must explore all independent variables to ensure\n",
      "totality in analysis.\n",
      "\n",
      "\n",
      "Reject Null: ['hypertension', 'heart_disease', 'ever_married', 'smoking_status', 'work_type', 'age', 'avg_glucose_level']\n",
      "\n",
      "These variables have a statistically significant association to Stroke.\n",
      "\n"
     ]
    }
   ],
   "source": [
    "print(\"Fail to Reject Null: {}\".format(accept_null))\n",
    "print()\n",
    "print(\"These variables do not have a statistically significant association to Stroke.\")\n",
    "print(\"However, we will proceed to include all in the Logistic Regression.\")\n",
    "print(\"Even if a single variable has little individual effect on the dependant variable, effects may exponentially increase when\") \n",
    "print(\"interacting with other independent variables. This tendency is low but we must explore all independent variables to ensure\")\n",
    "print(\"totality in analysis.\")\n",
    "print()\n",
    "print()\n",
    "print(\"Reject Null: {}\".format(reject_null))\n",
    "print()\n",
    "print(\"These variables have a statistically significant association to Stroke.\")\n",
    "print()\n",
    " \n"
   ]
  },
  {
   "cell_type": "markdown",
   "metadata": {},
   "source": [
    "### Since Stroke is a binary outcome, we will employ a Logistic Regression`\"\n",
    "  \n",
    "## Assumptions of Logistic Regression:\n",
    "#### 1. Data is free of missing values - SATISFIED\n",
    "#### 2. The dependent variable is binary or ordinal - SATISFIED\n",
    "#### 3. All predictors are independent of each other - SATISFIED\n",
    "#### 4. There are atleast 50 observations per predictor variable - SATISFIED\"\n",
    "  \n"
   ]
  },
  {
   "cell_type": "markdown",
   "metadata": {},
   "source": [
    "# 3. LOGISTIC REGRESSION MODEL PRODUCTION"
   ]
  },
  {
   "cell_type": "code",
   "execution_count": 16,
   "metadata": {},
   "outputs": [],
   "source": [
    "from collections import Counter\n",
    "from sklearn.datasets import make_classification\n",
    "from imblearn.over_sampling import SMOTE\n",
    "from imblearn.under_sampling import RandomUnderSampler\n",
    "from imblearn.pipeline import Pipeline\n",
    "from matplotlib import pyplot\n",
    "from numpy import where\n",
    "from sklearn.datasets import load_iris\n",
    "from sklearn.model_selection import cross_val_score\n",
    "from sklearn.tree import DecisionTreeClassifier"
   ]
  },
  {
   "cell_type": "code",
   "execution_count": 17,
   "metadata": {},
   "outputs": [
    {
     "name": "stdout",
     "output_type": "stream",
     "text": [
      "[[9.0460e+03 1.0000e+00 6.7000e+01 ... 1.0000e+00 0.0000e+00 0.0000e+00]\n",
      " [5.1676e+04 0.0000e+00 6.1000e+01 ... 0.0000e+00 1.0000e+00 0.0000e+00]\n",
      " [3.1112e+04 1.0000e+00 8.0000e+01 ... 1.0000e+00 0.0000e+00 0.0000e+00]\n",
      " ...\n",
      " [4.4873e+04 0.0000e+00 8.1000e+01 ... 0.0000e+00 1.0000e+00 0.0000e+00]\n",
      " [1.9723e+04 0.0000e+00 3.5000e+01 ... 0.0000e+00 1.0000e+00 0.0000e+00]\n",
      " [3.7544e+04 1.0000e+00 5.1000e+01 ... 1.0000e+00 0.0000e+00 0.0000e+00]]\n"
     ]
    }
   ],
   "source": [
    "# DUMMY TRANSFORMATIONS FOR NON-BINARY CATEGORICAL: work_type, smoking_status\n",
    "dum_pre=pd.get_dummies(stroke_med, columns=['smoking_status'])\n",
    "DUM=pd.get_dummies(dum_pre, columns=['work_type'])\n",
    "dum_array=DUM.to_numpy()\n",
    "\n",
    "# Renaming dummie columns\n",
    "DUM.rename(columns={'smoking_status_formerly smoked':'formerly_smoked','smoking_status_never smoked':'never_smoked','smoking_status_smokes':'smokes','work_type_Self-employed':'work_type_self'},inplace=True)\n",
    "DUM.rename(columns={DUM.columns[16]:'work_type_self'})\n",
    "print(dum_array)\n",
    "\n",
    "DUM=DUM.drop(['stroke','id'],axis=1)\n",
    "y=stroke_med.iloc[:,11:12]"
   ]
  },
  {
   "cell_type": "markdown",
   "metadata": {},
   "source": [
    "## 3.1 Data Splitting"
   ]
  },
  {
   "cell_type": "code",
   "execution_count": 18,
   "metadata": {},
   "outputs": [],
   "source": [
    "# 80% train/20% test \n",
    "\n",
    "X_train, X_test, y_train, y_test = train_test_split(DUM, y, test_size = 0.2, random_state = 22)\n",
    "\n"
   ]
  },
  {
   "cell_type": "code",
   "execution_count": 19,
   "metadata": {},
   "outputs": [],
   "source": [
    "## SMOTE Conversion\n",
    "### NOTE: Utilizing SMOTE() in order to oversample the \"stroke=1\" minority.  This is an industry recognized method to rectify over-fitting due random oversampling.\n",
    "smote = SMOTE(random_state = 22)\n",
    "X_train_balanced, Y_train_balanced = smote.fit_resample(X_train, y_train)"
   ]
  },
  {
   "cell_type": "markdown",
   "metadata": {},
   "source": [
    "## 3.2 Building Classification Model"
   ]
  },
  {
   "cell_type": "code",
   "execution_count": 20,
   "metadata": {},
   "outputs": [
    {
     "name": "stderr",
     "output_type": "stream",
     "text": [
      "C:\\Users\\tfuji\\anaconda3\\lib\\site-packages\\sklearn\\utils\\validation.py:63: DataConversionWarning: A column-vector y was passed when a 1d array was expected. Please change the shape of y to (n_samples, ), for example using ravel().\n",
      "  return f(*args, **kwargs)\n"
     ]
    },
    {
     "data": {
      "text/html": [
       "<div>\n",
       "<style scoped>\n",
       "    .dataframe tbody tr th:only-of-type {\n",
       "        vertical-align: middle;\n",
       "    }\n",
       "\n",
       "    .dataframe tbody tr th {\n",
       "        vertical-align: top;\n",
       "    }\n",
       "\n",
       "    .dataframe thead th {\n",
       "        text-align: right;\n",
       "    }\n",
       "</style>\n",
       "<table border=\"1\" class=\"dataframe\">\n",
       "  <thead>\n",
       "    <tr style=\"text-align: right;\">\n",
       "      <th></th>\n",
       "      <th>gender</th>\n",
       "      <th>age</th>\n",
       "      <th>hypertension</th>\n",
       "      <th>heart_disease</th>\n",
       "      <th>ever_married</th>\n",
       "      <th>Residence_type</th>\n",
       "      <th>avg_glucose_level</th>\n",
       "      <th>bmi</th>\n",
       "      <th>formerly_smoked</th>\n",
       "      <th>never_smoked</th>\n",
       "      <th>smokes</th>\n",
       "      <th>work_type_Govt_job</th>\n",
       "      <th>work_type_Never_worked</th>\n",
       "      <th>work_type_Private</th>\n",
       "      <th>work_type_self</th>\n",
       "      <th>work_type_children</th>\n",
       "    </tr>\n",
       "  </thead>\n",
       "  <tbody>\n",
       "    <tr>\n",
       "      <th>0</th>\n",
       "      <td>1</td>\n",
       "      <td>20.000000</td>\n",
       "      <td>0</td>\n",
       "      <td>0</td>\n",
       "      <td>0</td>\n",
       "      <td>0</td>\n",
       "      <td>75.900000</td>\n",
       "      <td>32.200000</td>\n",
       "      <td>0</td>\n",
       "      <td>1</td>\n",
       "      <td>0</td>\n",
       "      <td>0</td>\n",
       "      <td>0</td>\n",
       "      <td>1</td>\n",
       "      <td>0</td>\n",
       "      <td>0</td>\n",
       "    </tr>\n",
       "    <tr>\n",
       "      <th>1</th>\n",
       "      <td>0</td>\n",
       "      <td>31.000000</td>\n",
       "      <td>0</td>\n",
       "      <td>0</td>\n",
       "      <td>1</td>\n",
       "      <td>0</td>\n",
       "      <td>69.260000</td>\n",
       "      <td>21.800000</td>\n",
       "      <td>1</td>\n",
       "      <td>0</td>\n",
       "      <td>0</td>\n",
       "      <td>0</td>\n",
       "      <td>0</td>\n",
       "      <td>1</td>\n",
       "      <td>0</td>\n",
       "      <td>0</td>\n",
       "    </tr>\n",
       "    <tr>\n",
       "      <th>2</th>\n",
       "      <td>0</td>\n",
       "      <td>48.000000</td>\n",
       "      <td>0</td>\n",
       "      <td>0</td>\n",
       "      <td>1</td>\n",
       "      <td>1</td>\n",
       "      <td>74.110000</td>\n",
       "      <td>20.500000</td>\n",
       "      <td>0</td>\n",
       "      <td>1</td>\n",
       "      <td>0</td>\n",
       "      <td>0</td>\n",
       "      <td>0</td>\n",
       "      <td>1</td>\n",
       "      <td>0</td>\n",
       "      <td>0</td>\n",
       "    </tr>\n",
       "    <tr>\n",
       "      <th>3</th>\n",
       "      <td>0</td>\n",
       "      <td>20.000000</td>\n",
       "      <td>0</td>\n",
       "      <td>0</td>\n",
       "      <td>0</td>\n",
       "      <td>1</td>\n",
       "      <td>66.550000</td>\n",
       "      <td>26.900000</td>\n",
       "      <td>0</td>\n",
       "      <td>0</td>\n",
       "      <td>1</td>\n",
       "      <td>0</td>\n",
       "      <td>0</td>\n",
       "      <td>1</td>\n",
       "      <td>0</td>\n",
       "      <td>0</td>\n",
       "    </tr>\n",
       "    <tr>\n",
       "      <th>4</th>\n",
       "      <td>1</td>\n",
       "      <td>67.000000</td>\n",
       "      <td>0</td>\n",
       "      <td>0</td>\n",
       "      <td>1</td>\n",
       "      <td>1</td>\n",
       "      <td>97.340000</td>\n",
       "      <td>28.900000</td>\n",
       "      <td>0</td>\n",
       "      <td>1</td>\n",
       "      <td>0</td>\n",
       "      <td>0</td>\n",
       "      <td>0</td>\n",
       "      <td>1</td>\n",
       "      <td>0</td>\n",
       "      <td>0</td>\n",
       "    </tr>\n",
       "    <tr>\n",
       "      <th>...</th>\n",
       "      <td>...</td>\n",
       "      <td>...</td>\n",
       "      <td>...</td>\n",
       "      <td>...</td>\n",
       "      <td>...</td>\n",
       "      <td>...</td>\n",
       "      <td>...</td>\n",
       "      <td>...</td>\n",
       "      <td>...</td>\n",
       "      <td>...</td>\n",
       "      <td>...</td>\n",
       "      <td>...</td>\n",
       "      <td>...</td>\n",
       "      <td>...</td>\n",
       "      <td>...</td>\n",
       "      <td>...</td>\n",
       "    </tr>\n",
       "    <tr>\n",
       "      <th>5395</th>\n",
       "      <td>0</td>\n",
       "      <td>77.422610</td>\n",
       "      <td>0</td>\n",
       "      <td>0</td>\n",
       "      <td>1</td>\n",
       "      <td>0</td>\n",
       "      <td>124.797724</td>\n",
       "      <td>30.618171</td>\n",
       "      <td>0</td>\n",
       "      <td>1</td>\n",
       "      <td>0</td>\n",
       "      <td>0</td>\n",
       "      <td>0</td>\n",
       "      <td>0</td>\n",
       "      <td>0</td>\n",
       "      <td>0</td>\n",
       "    </tr>\n",
       "    <tr>\n",
       "      <th>5396</th>\n",
       "      <td>0</td>\n",
       "      <td>57.292504</td>\n",
       "      <td>0</td>\n",
       "      <td>0</td>\n",
       "      <td>1</td>\n",
       "      <td>0</td>\n",
       "      <td>92.383949</td>\n",
       "      <td>26.602971</td>\n",
       "      <td>0</td>\n",
       "      <td>0</td>\n",
       "      <td>0</td>\n",
       "      <td>0</td>\n",
       "      <td>0</td>\n",
       "      <td>0</td>\n",
       "      <td>0</td>\n",
       "      <td>0</td>\n",
       "    </tr>\n",
       "    <tr>\n",
       "      <th>5397</th>\n",
       "      <td>0</td>\n",
       "      <td>52.350557</td>\n",
       "      <td>0</td>\n",
       "      <td>0</td>\n",
       "      <td>1</td>\n",
       "      <td>1</td>\n",
       "      <td>177.730080</td>\n",
       "      <td>29.910254</td>\n",
       "      <td>0</td>\n",
       "      <td>0</td>\n",
       "      <td>0</td>\n",
       "      <td>0</td>\n",
       "      <td>0</td>\n",
       "      <td>0</td>\n",
       "      <td>0</td>\n",
       "      <td>0</td>\n",
       "    </tr>\n",
       "    <tr>\n",
       "      <th>5398</th>\n",
       "      <td>0</td>\n",
       "      <td>71.002099</td>\n",
       "      <td>0</td>\n",
       "      <td>0</td>\n",
       "      <td>1</td>\n",
       "      <td>0</td>\n",
       "      <td>263.319139</td>\n",
       "      <td>38.698367</td>\n",
       "      <td>0</td>\n",
       "      <td>0</td>\n",
       "      <td>0</td>\n",
       "      <td>0</td>\n",
       "      <td>0</td>\n",
       "      <td>0</td>\n",
       "      <td>0</td>\n",
       "      <td>0</td>\n",
       "    </tr>\n",
       "    <tr>\n",
       "      <th>5399</th>\n",
       "      <td>0</td>\n",
       "      <td>77.423849</td>\n",
       "      <td>0</td>\n",
       "      <td>0</td>\n",
       "      <td>1</td>\n",
       "      <td>0</td>\n",
       "      <td>90.144109</td>\n",
       "      <td>32.127155</td>\n",
       "      <td>0</td>\n",
       "      <td>0</td>\n",
       "      <td>0</td>\n",
       "      <td>0</td>\n",
       "      <td>0</td>\n",
       "      <td>0</td>\n",
       "      <td>1</td>\n",
       "      <td>0</td>\n",
       "    </tr>\n",
       "  </tbody>\n",
       "</table>\n",
       "<p>5400 rows × 16 columns</p>\n",
       "</div>"
      ],
      "text/plain": [
       "      gender        age  hypertension  heart_disease  ever_married  \\\n",
       "0          1  20.000000             0              0             0   \n",
       "1          0  31.000000             0              0             1   \n",
       "2          0  48.000000             0              0             1   \n",
       "3          0  20.000000             0              0             0   \n",
       "4          1  67.000000             0              0             1   \n",
       "...      ...        ...           ...            ...           ...   \n",
       "5395       0  77.422610             0              0             1   \n",
       "5396       0  57.292504             0              0             1   \n",
       "5397       0  52.350557             0              0             1   \n",
       "5398       0  71.002099             0              0             1   \n",
       "5399       0  77.423849             0              0             1   \n",
       "\n",
       "      Residence_type  avg_glucose_level        bmi  formerly_smoked  \\\n",
       "0                  0          75.900000  32.200000                0   \n",
       "1                  0          69.260000  21.800000                1   \n",
       "2                  1          74.110000  20.500000                0   \n",
       "3                  1          66.550000  26.900000                0   \n",
       "4                  1          97.340000  28.900000                0   \n",
       "...              ...                ...        ...              ...   \n",
       "5395               0         124.797724  30.618171                0   \n",
       "5396               0          92.383949  26.602971                0   \n",
       "5397               1         177.730080  29.910254                0   \n",
       "5398               0         263.319139  38.698367                0   \n",
       "5399               0          90.144109  32.127155                0   \n",
       "\n",
       "      never_smoked  smokes  work_type_Govt_job  work_type_Never_worked  \\\n",
       "0                1       0                   0                       0   \n",
       "1                0       0                   0                       0   \n",
       "2                1       0                   0                       0   \n",
       "3                0       1                   0                       0   \n",
       "4                1       0                   0                       0   \n",
       "...            ...     ...                 ...                     ...   \n",
       "5395             1       0                   0                       0   \n",
       "5396             0       0                   0                       0   \n",
       "5397             0       0                   0                       0   \n",
       "5398             0       0                   0                       0   \n",
       "5399             0       0                   0                       0   \n",
       "\n",
       "      work_type_Private  work_type_self  work_type_children  \n",
       "0                     1               0                   0  \n",
       "1                     1               0                   0  \n",
       "2                     1               0                   0  \n",
       "3                     1               0                   0  \n",
       "4                     1               0                   0  \n",
       "...                 ...             ...                 ...  \n",
       "5395                  0               0                   0  \n",
       "5396                  0               0                   0  \n",
       "5397                  0               0                   0  \n",
       "5398                  0               0                   0  \n",
       "5399                  0               1                   0  \n",
       "\n",
       "[5400 rows x 16 columns]"
      ]
     },
     "execution_count": 20,
     "metadata": {},
     "output_type": "execute_result"
    }
   ],
   "source": [
    "lg = LogisticRegression(random_state = 22,solver='lbfgs',max_iter=6000)\n",
    "lg_fit=lg.fit(X_train_balanced, Y_train_balanced)\n",
    "y_pred = lg_fit.predict(X_test)\n",
    "X_train_balanced"
   ]
  },
  {
   "cell_type": "markdown",
   "metadata": {},
   "source": [
    "## 3.3 CONFUSION MATRIX"
   ]
  },
  {
   "cell_type": "code",
   "execution_count": 21,
   "metadata": {},
   "outputs": [
    {
     "name": "stdout",
     "output_type": "stream",
     "text": [
      "Confusion Matrix\n",
      "[[630  33]\n",
      " [ 41   9]]\n",
      "\n",
      "Confusion Matrix Percentages\n",
      "[[0.95022624 0.04977376]\n",
      " [0.82       0.18      ]]\n",
      "\n"
     ]
    },
    {
     "data": {
      "image/png": "[encoded data removed]",
      "text/plain": [
       "<Figure size 432x288 with 2 Axes>"
      ]
     },
     "metadata": {
      "needs_background": "light"
     },
     "output_type": "display_data"
    }
   ],
   "source": [
    "# Confusion Matrix\n",
    "print('Confusion Matrix')\n",
    "cm = confusion_matrix(y_test, y_pred)\n",
    "print(cm)\n",
    "print()\n",
    "    \n",
    "    \n",
    "#Confusion Matrix Percentages\n",
    "print('Confusion Matrix Percentages')\n",
    "cm_percents = cm/cm.sum(axis=1).reshape(-1,1)\n",
    "print(cm_percents)\n",
    " \n",
    "    \n",
    "def plot_confusion(cm,classes=None, title=\"Confusion Matrix\"):\n",
    "    sns.heatmap(cm, annot=True, cmap=\"YlGnBu\",fmt='g')\n",
    "    plt.title(title)\n",
    "    plt.ylabel('Actual')\n",
    "    plt.xlabel('Predicted')\n",
    "\n",
    "plot_confusion(cm, classes=lg.classes_, title=\"Confusion Matrix\")\n",
    "print() \n",
    "   "
   ]
  },
  {
   "cell_type": "markdown",
   "metadata": {},
   "source": [
    "## 3.4 CLASSIFICATION REPORT"
   ]
  },
  {
   "cell_type": "code",
   "execution_count": 22,
   "metadata": {},
   "outputs": [
    {
     "name": "stdout",
     "output_type": "stream",
     "text": [
      "              precision    recall  f1-score   support\n",
      "\n",
      "           0       0.94      0.95      0.94       663\n",
      "           1       0.21      0.18      0.20        50\n",
      "\n",
      "    accuracy                           0.90       713\n",
      "   macro avg       0.58      0.57      0.57       713\n",
      "weighted avg       0.89      0.90      0.89       713\n",
      "\n"
     ]
    }
   ],
   "source": [
    "# CLASSIFICATION REPORT\n",
    "## Precision: TP/(TP + FP) - Vertical calc - How effective in avoiding mistakes?\n",
    "## Recall: TP/(TP+FN) - Horizontal calc - How many of observed cases are correctly predicted\n",
    "## NOTE: If priority is detection, then minimizing FN is important: focus on recall\n",
    "## F1-Score: 2*(Prec*Recall)/(Prec+Recall) Good for imbalanced dataset. Takes into account both P and R, harmonic mean of Recall and Precision. \n",
    "## Support is the number of true response samples in that class\n",
    "print(classification_report(y_test, y_pred))    \n"
   ]
  },
  {
   "cell_type": "code",
   "execution_count": 23,
   "metadata": {},
   "outputs": [
    {
     "name": "stdout",
     "output_type": "stream",
     "text": [
      "False Positive:  [33 41]\n",
      "False Negative:  [41 33]\n",
      "True Positive:  [  9 630]\n",
      "True Negative:  [630   9]\n",
      "The True Positive Rate is:  [0.18       0.95022624]\n",
      "The average TPR is:  0.5651131221719456\n",
      "The Precision is:  [0.21428571 0.93889717]\n",
      "The False Postive Rate is:  [0.04977376 0.82      ]\n",
      "FNR [0.82       0.04977376]\n"
     ]
    }
   ],
   "source": [
    " \n",
    "# Calc False Positives etc...\n",
    "FN = cm.sum(axis=0) - np.diag(cm)\n",
    "FP = cm.sum(axis=1) - np.diag(cm)\n",
    "TN = np.diag(cm)\n",
    "TP = cm.sum() - (FP+ FN + TN)\n",
    "print(\"False Positive: \",FP)\n",
    "print(\"False Negative: \",FN)\n",
    "print(\"True Positive: \",TP)\n",
    "print(\"True Negative: \",TN)\n",
    "    \n",
    "# True Positive Rate\n",
    "TPR= TP/(TP+FN)\n",
    "print(\"The True Positive Rate is: \",TPR)\n",
    "    \n",
    "# Total Averages\n",
    "print(\"The average TPR is: \",TPR.sum()/2)\n",
    "    \n",
    "# Precision or Positive Predictive Value - 1st= % correct for stroke=0, 2nd= % correct for stroke=1\n",
    "PPV=TP/(TP+FP)\n",
    "print(\"The Precision is: \", PPV)\n",
    "    \n",
    "# False Positive Rate or False Alarm Rate - \n",
    "FPR = FP/(FP + TN)\n",
    "print(\"The False Postive Rate is: \", FPR)\n",
    "    \n",
    "# False Negative\n",
    "FNR = FN/(FN+TP)\n",
    "print(\"FNR\",FNR)\n"
   ]
  },
  {
   "cell_type": "markdown",
   "metadata": {},
   "source": [
    "### 3.5 Precision Recall Curve"
   ]
  },
  {
   "cell_type": "code",
   "execution_count": 227,
   "metadata": {},
   "outputs": [
    {
     "name": "stdout",
     "output_type": "stream",
     "text": [
      "Logistic: f1=0.202 auc=0.182\n"
     ]
    },
    {
     "data": {
      "image/png": "[encoded data removed]",
      "text/plain": [
       "<Figure size 432x288 with 1 Axes>"
      ]
     },
     "metadata": {},
     "output_type": "display_data"
    }
   ],
   "source": [
    "from sklearn.datasets import make_classification\n",
    "from sklearn.linear_model import LogisticRegression\n",
    "from sklearn.model_selection import train_test_split\n",
    "from sklearn.metrics import precision_recall_curve\n",
    "from sklearn.metrics import f1_score\n",
    "from sklearn.metrics import auc\n",
    "from matplotlib import pyplot\n",
    "\n",
    "\n",
    "#### ROC Curves summarize the trade-off between the true positive rate and false positive rate for a predictive model using different probability thresholds.\n",
    "#### Precision-Recall curves summarize the trade-off between the true positive rate and the positive predictive value for a predictive model using different probability thresholds.\n",
    "#### ROC curves are appropriate when the observations are balanced between each class, whereas precision-recall curves are appropriate for imbalanced datasets.\n",
    "\n",
    "# keep probabilities for the positive outcome only\n",
    "lr_probs = pred_proba_t[:, 1]\n",
    "# predict class values\n",
    "yhat = lg_fit.predict(X_test)\n",
    "lr_precision, lr_recall, _ = precision_recall_curve(y_test, lr_probs)\n",
    "lr_f1, lr_auc = f1_score(y_test, yhat), auc(lr_recall, lr_precision)\n",
    "# summarize scores\n",
    "print('Logistic: f1=%.3f auc=%.3f' % (lr_f1, lr_auc))\n",
    "# plot the precision-recall curves\n",
    "no_skill = len(y_test[y_test==1]) / len(y_test)\n",
    "pyplot.plot([0, 1], [no_skill, no_skill], linestyle='--', label='No Skill', color='darkred')\n",
    "pyplot.plot(lr_recall, lr_precision, marker='.', label='Logistic', color='lightseagreen')\n",
    "# axis labels\n",
    "pyplot.xlabel('Recall')\n",
    "pyplot.ylabel('Precision')\n",
    "# show the legend\n",
    "pyplot.legend()\n",
    "# show the plot\n",
    "pyplot.show()"
   ]
  },
  {
   "cell_type": "markdown",
   "metadata": {},
   "source": [
    "## 3.6 COEFFICENTS & ODDS RATIO"
   ]
  },
  {
   "cell_type": "code",
   "execution_count": 257,
   "metadata": {
    "scrolled": false
   },
   "outputs": [
    {
     "name": "stdout",
     "output_type": "stream",
     "text": [
      "Warning: Maximum number of iterations has been exceeded.\n",
      "         Current function value: 0.202925\n",
      "         Iterations: 35\n",
      "                           Logit Regression Results                           \n",
      "==============================================================================\n",
      "Dep. Variable:                 stroke   No. Observations:                 5400\n",
      "Model:                          Logit   Df Residuals:                     5384\n",
      "Method:                           MLE   Df Model:                           15\n",
      "Date:                Thu, 15 Apr 2021   Pseudo R-squ.:                  0.7072\n",
      "Time:                        11:11:52   Log-Likelihood:                -1095.8\n",
      "converged:                      False   LL-Null:                       -3743.0\n",
      "Covariance Type:            nonrobust   LLR p-value:                     0.000\n",
      "==========================================================================================\n",
      "                             coef    std err          z      P>|z|      [0.025      0.975]\n",
      "------------------------------------------------------------------------------------------\n",
      "gender                    -0.8432      0.124     -6.796      0.000      -1.086      -0.600\n",
      "age                        0.1155      0.005     25.403      0.000       0.107       0.124\n",
      "hypertension              -0.5151      0.150     -3.431      0.001      -0.809      -0.221\n",
      "heart_disease             -0.5241      0.195     -2.683      0.007      -0.907      -0.141\n",
      "ever_married              -0.6249      0.164     -3.808      0.000      -0.947      -0.303\n",
      "Residence_type            -0.7691      0.113     -6.786      0.000      -0.991      -0.547\n",
      "avg_glucose_level          0.0070      0.001      7.323      0.000       0.005       0.009\n",
      "bmi                        0.0573      0.008      7.554      0.000       0.042       0.072\n",
      "formerly_smoked           -5.0104      0.277    -18.118      0.000      -5.552      -4.468\n",
      "never_smoked              -5.3775      0.271    -19.849      0.000      -5.908      -4.846\n",
      "smokes                    -4.4880      0.270    -16.626      0.000      -5.017      -3.959\n",
      "work_type_Govt_job        -5.6934      0.321    -17.720      0.000      -6.323      -5.064\n",
      "work_type_Never_worked   -55.1675   7.69e+11  -7.18e-11      1.000   -1.51e+12    1.51e+12\n",
      "work_type_Private         -4.4884      0.271    -16.544      0.000      -5.020      -3.957\n",
      "work_type_self            -5.6471      0.303    -18.643      0.000      -6.241      -5.053\n",
      "work_type_children       -28.0087   5.66e+05  -4.95e-05      1.000   -1.11e+06    1.11e+06\n",
      "==========================================================================================\n",
      "\n",
      "Possibly complete quasi-separation: A fraction 0.12 of observations can be\n",
      "perfectly predicted. This might indicate that there is complete\n",
      "quasi-separation. In this case some parameters will not be identified.\n",
      "Warning: Maximum number of iterations has been exceeded.\n",
      "         Current function value: 0.202925\n",
      "         Iterations: 35\n"
     ]
    },
    {
     "name": "stderr",
     "output_type": "stream",
     "text": [
      "C:\\Users\\tfuji\\anaconda3\\lib\\site-packages\\statsmodels\\base\\model.py:566: ConvergenceWarning: Maximum Likelihood optimization failed to converge. Check mle_retvals\n",
      "  warnings.warn(\"Maximum Likelihood optimization failed to \"\n",
      "C:\\Users\\tfuji\\anaconda3\\lib\\site-packages\\statsmodels\\base\\model.py:566: ConvergenceWarning: Maximum Likelihood optimization failed to converge. Check mle_retvals\n",
      "  warnings.warn(\"Maximum Likelihood optimization failed to \"\n"
     ]
    },
    {
     "data": {
      "text/html": [
       "<div>\n",
       "<style scoped>\n",
       "    .dataframe tbody tr th:only-of-type {\n",
       "        vertical-align: middle;\n",
       "    }\n",
       "\n",
       "    .dataframe tbody tr th {\n",
       "        vertical-align: top;\n",
       "    }\n",
       "\n",
       "    .dataframe thead th {\n",
       "        text-align: right;\n",
       "    }\n",
       "</style>\n",
       "<table border=\"1\" class=\"dataframe\">\n",
       "  <thead>\n",
       "    <tr style=\"text-align: right;\">\n",
       "      <th></th>\n",
       "      <th>Coefficent</th>\n",
       "      <th>Odds Ratio</th>\n",
       "    </tr>\n",
       "    <tr>\n",
       "      <th>index</th>\n",
       "      <th></th>\n",
       "      <th></th>\n",
       "    </tr>\n",
       "  </thead>\n",
       "  <tbody>\n",
       "    <tr>\n",
       "      <th>age</th>\n",
       "      <td>0.115497</td>\n",
       "      <td>1.122431e+00</td>\n",
       "    </tr>\n",
       "    <tr>\n",
       "      <th>bmi</th>\n",
       "      <td>0.057280</td>\n",
       "      <td>1.058953e+00</td>\n",
       "    </tr>\n",
       "    <tr>\n",
       "      <th>avg_glucose_level</th>\n",
       "      <td>0.007004</td>\n",
       "      <td>1.007029e+00</td>\n",
       "    </tr>\n",
       "    <tr>\n",
       "      <th>hypertension</th>\n",
       "      <td>-0.515130</td>\n",
       "      <td>5.974232e-01</td>\n",
       "    </tr>\n",
       "    <tr>\n",
       "      <th>heart_disease</th>\n",
       "      <td>-0.524061</td>\n",
       "      <td>5.921110e-01</td>\n",
       "    </tr>\n",
       "    <tr>\n",
       "      <th>ever_married</th>\n",
       "      <td>-0.624910</td>\n",
       "      <td>5.353098e-01</td>\n",
       "    </tr>\n",
       "    <tr>\n",
       "      <th>Residence_type</th>\n",
       "      <td>-0.769141</td>\n",
       "      <td>4.634108e-01</td>\n",
       "    </tr>\n",
       "    <tr>\n",
       "      <th>gender</th>\n",
       "      <td>-0.843241</td>\n",
       "      <td>4.303135e-01</td>\n",
       "    </tr>\n",
       "    <tr>\n",
       "      <th>smokes</th>\n",
       "      <td>-4.488028</td>\n",
       "      <td>1.124279e-02</td>\n",
       "    </tr>\n",
       "    <tr>\n",
       "      <th>work_type_Private</th>\n",
       "      <td>-4.488440</td>\n",
       "      <td>1.123816e-02</td>\n",
       "    </tr>\n",
       "    <tr>\n",
       "      <th>formerly_smoked</th>\n",
       "      <td>-5.010421</td>\n",
       "      <td>6.668093e-03</td>\n",
       "    </tr>\n",
       "    <tr>\n",
       "      <th>never_smoked</th>\n",
       "      <td>-5.377467</td>\n",
       "      <td>4.619511e-03</td>\n",
       "    </tr>\n",
       "    <tr>\n",
       "      <th>work_type_self</th>\n",
       "      <td>-5.647142</td>\n",
       "      <td>3.527583e-03</td>\n",
       "    </tr>\n",
       "    <tr>\n",
       "      <th>work_type_Govt_job</th>\n",
       "      <td>-5.693416</td>\n",
       "      <td>3.368070e-03</td>\n",
       "    </tr>\n",
       "    <tr>\n",
       "      <th>work_type_children</th>\n",
       "      <td>-28.008670</td>\n",
       "      <td>6.854710e-13</td>\n",
       "    </tr>\n",
       "    <tr>\n",
       "      <th>work_type_Never_worked</th>\n",
       "      <td>-55.167453</td>\n",
       "      <td>1.099207e-24</td>\n",
       "    </tr>\n",
       "  </tbody>\n",
       "</table>\n",
       "</div>"
      ],
      "text/plain": [
       "                        Coefficent    Odds Ratio\n",
       "index                                           \n",
       "age                       0.115497  1.122431e+00\n",
       "bmi                       0.057280  1.058953e+00\n",
       "avg_glucose_level         0.007004  1.007029e+00\n",
       "hypertension             -0.515130  5.974232e-01\n",
       "heart_disease            -0.524061  5.921110e-01\n",
       "ever_married             -0.624910  5.353098e-01\n",
       "Residence_type           -0.769141  4.634108e-01\n",
       "gender                   -0.843241  4.303135e-01\n",
       "smokes                   -4.488028  1.124279e-02\n",
       "work_type_Private        -4.488440  1.123816e-02\n",
       "formerly_smoked          -5.010421  6.668093e-03\n",
       "never_smoked             -5.377467  4.619511e-03\n",
       "work_type_self           -5.647142  3.527583e-03\n",
       "work_type_Govt_job       -5.693416  3.368070e-03\n",
       "work_type_children      -28.008670  6.854710e-13\n",
       "work_type_Never_worked  -55.167453  1.099207e-24"
      ]
     },
     "execution_count": 257,
     "metadata": {},
     "output_type": "execute_result"
    }
   ],
   "source": [
    "## OPTION 1: LOGIT SUMMARY, No Constant or with ADD_CONSTANT\n",
    "\n",
    "# WITHOUT CONSTANT\n",
    "logreg6 = sm.Logit(Y_train_balanced, X_train_balanced)\n",
    "results=logreg6.fit()\n",
    "print(results.summary())\n",
    "\n",
    "\n",
    "\n",
    "\n",
    "logit = sm.Logit(Y_train_balanced,X_train_balanced)\n",
    "coeff=logit.fit().params\n",
    "\n",
    "\n",
    "coeff=pd.DataFrame(coeff)\n",
    "coeff=coeff.rename(columns={0: \"Coefficent\"})\n",
    "coeff=coeff.sort_values(by='Coefficent', ascending=False)\n",
    "\n",
    "\n",
    "# ADDING ODDS RATIO\n",
    "import math\n",
    "odds_change=[]\n",
    "for row in coeff.itertuples():\n",
    "    odds=float((math.exp(row[1])))\n",
    "    odds_change.append(odds)\n",
    "\n",
    "\n",
    "dict2={'index':coeff.index, 'Coefficent':coeff.iloc[:,0], 'Odds Ratio':odds_change}\n",
    "df2=pd.DataFrame(dict2)\n",
    "df2=df2.set_index('index')\n",
    "df2"
   ]
  },
  {
   "cell_type": "markdown",
   "metadata": {},
   "source": [
    "## 3.7 MODEL EVALUATION & ACCURACY SCORING"
   ]
  },
  {
   "cell_type": "code",
   "execution_count": 258,
   "metadata": {},
   "outputs": [
    {
     "name": "stdout",
     "output_type": "stream",
     "text": [
      "Accuracy Score: 90.04%\n",
      "\n",
      "\n",
      "Logistic Regression Testing Score(Mean Accuracy % for Test Sample)): 90.04%\n",
      "Logistic Regression Training Score(Mean Accuracy % for Test Sample)): 90.926%\n",
      "\n",
      "Log Loss on Testing Dataset is: 25.44%\n"
     ]
    }
   ],
   "source": [
    "#accuracy report\n",
    "acc=accuracy_score(y_test, y_pred)\n",
    "print(\"Accuracy Score: {}%\".format(round(acc*100,2)))\n",
    "print()\n",
    "print()\n",
    "\n",
    "# Testing Accuracy\n",
    "lg_testing_score = lg_fit.score(X_test,y_test)\n",
    "print(\"Logistic Regression Testing Score(Mean Accuracy % for Test Sample)): {}%\".format(round(lg_testing_score*100,2)))\n",
    "\n",
    "\n",
    "# Training Accuracy\n",
    "lg_training_score = lg_fit.score(X_train_balanced,Y_train_balanced)\n",
    "print(\"Logistic Regression Training Score(Mean Accuracy % for Test Sample)): {}%\".format(round(lg_training_score*100,3)))\n",
    "print()\n",
    "# Log Loss testing\n",
    "pred_proba_t = lg_fit.predict_proba(X_test)\n",
    "print(\"Log Loss on Testing Dataset is: {}%\".format(round(log_loss(y_test, pred_proba_t)*100,2)))\n"
   ]
  },
  {
   "cell_type": "markdown",
   "metadata": {},
   "source": [
    "## 3.8 FINAL MODEL"
   ]
  },
  {
   "cell_type": "code",
   "execution_count": 259,
   "metadata": {},
   "outputs": [
    {
     "name": "stderr",
     "output_type": "stream",
     "text": [
      "C:\\Users\\tfuji\\anaconda3\\lib\\site-packages\\sklearn\\utils\\validation.py:63: DataConversionWarning: A column-vector y was passed when a 1d array was expected. Please change the shape of y to (n_samples, ), for example using ravel().\n",
      "  return f(*args, **kwargs)\n"
     ]
    },
    {
     "name": "stdout",
     "output_type": "stream",
     "text": [
      "Logistic Regression Testing Score(Mean Accuracy % for Test Sample)): 90.0421%\n",
      "Log Loss on Testing Dataset is: 25.44%\n",
      "[[0.631800 0.368200]\n",
      " [0.931398 0.068602]\n",
      " [0.849299 0.150701]\n",
      " [0.986659 0.013341]\n",
      " [0.977730 0.022270]]\n"
     ]
    }
   ],
   "source": [
    "# FINAL MODEL    \n",
    "lg = LogisticRegression(random_state = 22,solver='lbfgs',max_iter=6000,C=1e9)\n",
    "lg_fit=lg.fit(X_train_balanced, Y_train_balanced)\n",
    "y_pred = lg_fit.predict(X_test)\n",
    "\n",
    "# Testing Accuracy\n",
    "lg_testing_score = lg_fit.score(X_test,y_test)\n",
    "print(\"Logistic Regression Testing Score(Mean Accuracy % for Test Sample)): {}%\".format(round(lg_testing_score*100,4)))\n",
    "\n",
    "# Log Loss testing\n",
    "pred_proba_t = lg_fit.predict_proba(X_test)\n",
    "print(\"Log Loss on Testing Dataset is: {}%\".format(round(log_loss(y_test, pred_proba_t)*100,2)))\n",
    "print(pred_proba_t[0:5])\n",
    "\n",
    "\n"
   ]
  },
  {
   "cell_type": "markdown",
   "metadata": {},
   "source": [
    "Insights\n",
    "## 1. We will build a highly accurate predictive generalized model to help anticipate the on-set of stroke in a persons life time\n",
    "## 2. From the given data set we will be identifying the significant and in-significant variables in predicting stroke likelyhood.\n",
    "## 3. Variable significance will be judged univariantly based upon comparing the p-values to our alpha value(0.05/95%).\n",
    "## 4. The final model will be able to accurately predict whether stroke or non-stroke is likely to occur in the lifetime.\n",
    "## 5. Smoking Status, Work Type, Residence Type, Heart Disease and Marriage status are the 5 most influencial variables for stroke prediction\n",
    "## 6. the slope coefficient is interpreted as the rate of change in the \"log odds\" as X changes. "
   ]
  },
  {
   "cell_type": "code",
   "execution_count": null,
   "metadata": {},
   "outputs": [],
   "source": []
  },
  {
   "cell_type": "code",
   "execution_count": null,
   "metadata": {},
   "outputs": [],
   "source": []
  },
  {
   "cell_type": "code",
   "execution_count": null,
   "metadata": {},
   "outputs": [],
   "source": []
  },
  {
   "cell_type": "code",
   "execution_count": null,
   "metadata": {},
   "outputs": [],
   "source": []
  },
  {
   "cell_type": "code",
   "execution_count": null,
   "metadata": {},
   "outputs": [],
   "source": []
  },
  {
   "cell_type": "code",
   "execution_count": null,
   "metadata": {},
   "outputs": [],
   "source": []
  },
  {
   "cell_type": "code",
   "execution_count": null,
   "metadata": {},
   "outputs": [],
   "source": []
  },
  {
   "cell_type": "code",
   "execution_count": null,
   "metadata": {},
   "outputs": [],
   "source": []
  },
  {
   "cell_type": "code",
   "execution_count": null,
   "metadata": {},
   "outputs": [],
   "source": []
  },
  {
   "cell_type": "code",
   "execution_count": null,
   "metadata": {},
   "outputs": [],
   "source": []
  }
 ],
 "metadata": {
  "kernelspec": {
   "display_name": "Python 3",
   "language": "python",
   "name": "python3"
  },
  "language_info": {
   "codemirror_mode": {
    "name": "ipython",
    "version": 3
   },
   "file_extension": ".py",
   "mimetype": "text/x-python",
   "name": "python",
   "nbconvert_exporter": "python",
   "pygments_lexer": "ipython3",
   "version": "3.8.5"
  }
 },
 "nbformat": 4,
 "nbformat_minor": 4
}
